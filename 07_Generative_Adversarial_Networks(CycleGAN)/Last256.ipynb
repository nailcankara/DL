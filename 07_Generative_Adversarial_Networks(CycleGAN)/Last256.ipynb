{
  "nbformat": 4,
  "nbformat_minor": 0,
  "metadata": {
    "colab": {
      "name": "768.ipynb",
      "provenance": [],
      "collapsed_sections": [
        "1wYpGiwbi2a8"
      ],
      "toc_visible": true
    },
    "kernelspec": {
      "name": "python3",
      "display_name": "Python 3"
    },
    "accelerator": "GPU"
  },
  "cells": [
    {
      "cell_type": "markdown",
      "metadata": {
        "id": "FCDSQ_fMiA_-",
        "colab_type": "text"
      },
      "source": [
        "#**CycleGAN Keras İmplemantasyonu**"
      ]
    },
    {
      "cell_type": "markdown",
      "metadata": {
        "id": "VegZtdsjgVBP",
        "colab_type": "text"
      },
      "source": [
        "***Bu çalışma CycleGAN ile fotoğraflarda kapalı çıkan bir gözün açık haldeki tahminlemesi. Vanilla versiyon.***"
      ]
    },
    {
      "cell_type": "markdown",
      "metadata": {
        "id": "1wYpGiwbi2a8",
        "colab_type": "text"
      },
      "source": [
        "#CycleGAN Algoritması"
      ]
    },
    {
      "cell_type": "markdown",
      "metadata": {
        "id": "5kvCq_yCoK5D",
        "colab_type": "text"
      },
      "source": [
        "![alt text](https://i.hizliresim.com/qCV8Y0.jpg)\n",
        "\n",
        "\n"
      ]
    },
    {
      "cell_type": "markdown",
      "metadata": {
        "id": "iUggP26_Ppnu",
        "colab_type": "text"
      },
      "source": [
        "#1-Veri Hazırlama  \n",
        "CycleGAN doğası gereği pair fotoğraflara ihtiyaç duymaz. Fakat Modelimizin 300 milyon parametre içermesi, büyüklüğü ve eğitim zorluğu beni kendi pair çiftlerimi oluşturmaya itti. Normalin'den tek farkı model göz dışında ki bölgeler için autoencoder'lardaki copy-paste mantığı yapıcak. Gradyanlar ölecek. Computational azalıcak.\n",
        "\n",
        "\n",
        "23k gözleri açık facedatasetini cv2 kütüphanesinde bulunan Cascade Classifier'ı kullanarak gözlerini tespit ettim ve beyazla boyadım.\n",
        " \n",
        "Fakat ileride sadece 1k'sını kullanıcam.\n",
        "\n",
        "(source code'a eklediğim veriseti bu işlemin en son halidir)"
      ]
    },
    {
      "cell_type": "code",
      "metadata": {
        "id": "fp2CYPJTZe9G",
        "colab_type": "code",
        "outputId": "095ead8c-5d45-4b2c-fecf-a9bdfc5c4cff",
        "colab": {
          "base_uri": "https://localhost:8080/",
          "height": 369
        }
      },
      "source": [
        "!nvidia-smi"
      ],
      "execution_count": 1,
      "outputs": [
        {
          "output_type": "stream",
          "text": [
            "Mon Jun 15 11:10:09 2020       \n",
            "+-----------------------------------------------------------------------------+\n",
            "| NVIDIA-SMI 450.36.06    Driver Version: 418.67       CUDA Version: 10.1     |\n",
            "|-------------------------------+----------------------+----------------------+\n",
            "| GPU  Name        Persistence-M| Bus-Id        Disp.A | Volatile Uncorr. ECC |\n",
            "| Fan  Temp  Perf  Pwr:Usage/Cap|         Memory-Usage | GPU-Util  Compute M. |\n",
            "|                               |                      |               MIG M. |\n",
            "|===============================+======================+======================|\n",
            "|   0  Tesla P100-PCIE...  Off  | 00000000:00:04.0 Off |                    0 |\n",
            "| N/A   36C    P0    27W / 250W |      0MiB / 16280MiB |      0%      Default |\n",
            "|                               |                      |                 ERR! |\n",
            "+-------------------------------+----------------------+----------------------+\n",
            "                                                                               \n",
            "+-----------------------------------------------------------------------------+\n",
            "| Processes:                                                                  |\n",
            "|  GPU   GI   CI        PID   Type   Process name                  GPU Memory |\n",
            "|        ID   ID                                                   Usage      |\n",
            "|=============================================================================|\n",
            "|  No running processes found                                                 |\n",
            "+-----------------------------------------------------------------------------+\n"
          ],
          "name": "stdout"
        }
      ]
    },
    {
      "cell_type": "code",
      "metadata": {
        "id": "tmOGswWHjsfj",
        "colab_type": "code",
        "outputId": "a261b5c7-2d11-4954-d142-bc248de65140",
        "colab": {
          "base_uri": "https://localhost:8080/",
          "height": 125
        }
      },
      "source": [
        "from google.colab import drive\n",
        "drive.mount('/content/drive')"
      ],
      "execution_count": 2,
      "outputs": [
        {
          "output_type": "stream",
          "text": [
            "Go to this URL in a browser: https://accounts.google.com/o/oauth2/auth?client_id=947318989803-6bn6qk8qdgf4n4g3pfee6491hc0brc4i.apps.googleusercontent.com&redirect_uri=urn%3aietf%3awg%3aoauth%3a2.0%3aoob&response_type=code&scope=email%20https%3a%2f%2fwww.googleapis.com%2fauth%2fdocs.test%20https%3a%2f%2fwww.googleapis.com%2fauth%2fdrive%20https%3a%2f%2fwww.googleapis.com%2fauth%2fdrive.photos.readonly%20https%3a%2f%2fwww.googleapis.com%2fauth%2fpeopleapi.readonly\n",
            "\n",
            "Enter your authorization code:\n",
            "··········\n",
            "Mounted at /content/drive\n"
          ],
          "name": "stdout"
        }
      ]
    },
    {
      "cell_type": "code",
      "metadata": {
        "id": "DWAtrXlUPD10",
        "colab_type": "code",
        "colab": {}
      },
      "source": [
        "!pip install -q kaggle"
      ],
      "execution_count": 0,
      "outputs": []
    },
    {
      "cell_type": "code",
      "metadata": {
        "id": "J1yxZQo6PDtF",
        "colab_type": "code",
        "colab": {}
      },
      "source": [
        "!mkdir ~/.kaggle"
      ],
      "execution_count": 0,
      "outputs": []
    },
    {
      "cell_type": "code",
      "metadata": {
        "id": "f7Tv6-3RPDqU",
        "colab_type": "code",
        "colab": {}
      },
      "source": [
        "!cp kaggle.json ~/.kaggle/"
      ],
      "execution_count": 0,
      "outputs": []
    },
    {
      "cell_type": "code",
      "metadata": {
        "id": "-71ytS89PDim",
        "colab_type": "code",
        "colab": {}
      },
      "source": [
        "!chmod 600 ~/.kaggle/kaggle.json"
      ],
      "execution_count": 0,
      "outputs": []
    },
    {
      "cell_type": "code",
      "metadata": {
        "id": "wWWtIuZWPDbn",
        "colab_type": "code",
        "colab": {}
      },
      "source": [
        "!kaggle datasets list"
      ],
      "execution_count": 0,
      "outputs": []
    },
    {
      "cell_type": "code",
      "metadata": {
        "id": "uq8nmw5QPDY1",
        "colab_type": "code",
        "colab": {}
      },
      "source": [
        "!kaggle datasets download -d abhikjha/utk-face-cropped"
      ],
      "execution_count": 0,
      "outputs": []
    },
    {
      "cell_type": "code",
      "metadata": {
        "id": "Qt0rg6sBPDWN",
        "colab_type": "code",
        "colab": {}
      },
      "source": [
        "!unzip utk-face-cropped.zip -d /content/Photos"
      ],
      "execution_count": 0,
      "outputs": []
    },
    {
      "cell_type": "code",
      "metadata": {
        "id": "0_h8eBx9PDTr",
        "colab_type": "code",
        "colab": {}
      },
      "source": [
        "cd /content/Photos/utkcropped"
      ],
      "execution_count": 0,
      "outputs": []
    },
    {
      "cell_type": "code",
      "metadata": {
        "id": "hRAtdAKFPDRG",
        "colab_type": "code",
        "colab": {}
      },
      "source": [
        "!rm -r utkcropped"
      ],
      "execution_count": 0,
      "outputs": []
    },
    {
      "cell_type": "code",
      "metadata": {
        "id": "-lt7Mm_TPDOH",
        "colab_type": "code",
        "colab": {}
      },
      "source": [
        "import os\n",
        "arr = os.listdir('.')\n",
        "for i in range(len(arr)):\n",
        "  os.rename(r'/content/Photos/utkcropped/{}'.format(arr[i]),r'/content/Photos/utkcropped/{}.jpg'.format(str(i)))\n",
        "  ##dosya isimlerini 0.jpg'den 23708.jpg'ye kadar numaralandırma"
      ],
      "execution_count": 0,
      "outputs": []
    },
    {
      "cell_type": "code",
      "metadata": {
        "id": "5eUmjEP4PDLe",
        "colab_type": "code",
        "colab": {}
      },
      "source": [
        "import cv2\n",
        "import matplotlib.pyplot as plt\n",
        "import matplotlib.pyplot as plt\n",
        "\n",
        "eye_cascade = cv2.CascadeClassifier(\"/content/eyedetection.xml\")"
      ],
      "execution_count": 0,
      "outputs": []
    },
    {
      "cell_type": "code",
      "metadata": {
        "id": "Mc9fw-hyPUmo",
        "colab_type": "code",
        "colab": {}
      },
      "source": [
        "def photoisokay(eyes):\n",
        "  if len(eyes) == 2:\n",
        "    return True\n",
        "  else:\n",
        "    return False"
      ],
      "execution_count": 0,
      "outputs": []
    },
    {
      "cell_type": "code",
      "metadata": {
        "id": "SoG9c3NjPUjl",
        "colab_type": "code",
        "colab": {}
      },
      "source": [
        "for index in range(len(arr)):\n",
        "\n",
        "  image_real = cv2.imread(arr[index])\n",
        "  image_fake = image_real.copy()\n",
        "\n",
        "  eyes = eye_cascade.detectMultiScale(image_fake,scaleFactor=1.1,minNeighbors=10)\n",
        "\n",
        "  if not photoisokay(eyes):\n",
        "    continue\n",
        "\n",
        "  for (x,y,w,h) in eyes:\n",
        "    cv2.rectangle(image_fake , (x,y) , (x+w,y+h) , (255,255,255) , -1)\n",
        "\n",
        "\n",
        "  cv2.imwrite('/content/Real/image{}.jpg'.format(index), image_real)\n",
        "  cv2.imwrite('/content/Fake/image{}.jpg'.format(index), image_fake)"
      ],
      "execution_count": 0,
      "outputs": []
    },
    {
      "cell_type": "markdown",
      "metadata": {
        "id": "BQyXZD2GPb6c",
        "colab_type": "text"
      },
      "source": [
        "#CycleGAN"
      ]
    },
    {
      "cell_type": "markdown",
      "metadata": {
        "id": "kqgAqAeLt2rJ",
        "colab_type": "text"
      },
      "source": [
        "Modeldeki kayıplar optimizer'lar ve çeşitli parametreler orjinal CycleGAN'ın pytorch implementation'ından alınmıştır. Zira bu modeli bile eğitmek 3 gün sürdüğü için gridsearch yapma şansım yok."
      ]
    },
    {
      "cell_type": "markdown",
      "metadata": {
        "id": "KmOyb9RKsMbQ",
        "colab_type": "text"
      },
      "source": [
        "CycleGan Sınıfı oluşturdum. Bu sınıfta özellikle staticmethod kullandım. Çünkü self metodlarında fonksiyonlar birbirleriyle haberleşir. Discriminator ve Generator'un, (trainable = True or False) kısmını sürekli ayarlamam gerekicekti ve proje büyüdüğünde içinden çıkılmaz bir hal alıcaktı. Fakat Default halinin true olması sebebiyle sadece kapanmasını istediğim yerlere false eklemem yeterli."
      ]
    },
    {
      "cell_type": "code",
      "metadata": {
        "id": "ZcHKgBo6Vb5v",
        "colab_type": "code",
        "colab": {
          "base_uri": "https://localhost:8080/",
          "height": 354
        },
        "outputId": "33bda57a-725e-4306-ac22-50345924719c"
      },
      "source": [
        "!pip install git+https://www.github.com/keras-team/keras-contrib.git"
      ],
      "execution_count": 3,
      "outputs": [
        {
          "output_type": "stream",
          "text": [
            "Collecting git+https://www.github.com/keras-team/keras-contrib.git\n",
            "  Cloning https://www.github.com/keras-team/keras-contrib.git to /tmp/pip-req-build-sbndd7ix\n",
            "  Running command git clone -q https://www.github.com/keras-team/keras-contrib.git /tmp/pip-req-build-sbndd7ix\n",
            "Requirement already satisfied: keras in /usr/local/lib/python3.6/dist-packages (from keras-contrib==2.0.8) (2.3.1)\n",
            "Requirement already satisfied: pyyaml in /usr/local/lib/python3.6/dist-packages (from keras->keras-contrib==2.0.8) (3.13)\n",
            "Requirement already satisfied: scipy>=0.14 in /usr/local/lib/python3.6/dist-packages (from keras->keras-contrib==2.0.8) (1.4.1)\n",
            "Requirement already satisfied: keras-preprocessing>=1.0.5 in /usr/local/lib/python3.6/dist-packages (from keras->keras-contrib==2.0.8) (1.1.2)\n",
            "Requirement already satisfied: six>=1.9.0 in /usr/local/lib/python3.6/dist-packages (from keras->keras-contrib==2.0.8) (1.12.0)\n",
            "Requirement already satisfied: keras-applications>=1.0.6 in /usr/local/lib/python3.6/dist-packages (from keras->keras-contrib==2.0.8) (1.0.8)\n",
            "Requirement already satisfied: h5py in /usr/local/lib/python3.6/dist-packages (from keras->keras-contrib==2.0.8) (2.10.0)\n",
            "Requirement already satisfied: numpy>=1.9.1 in /usr/local/lib/python3.6/dist-packages (from keras->keras-contrib==2.0.8) (1.18.5)\n",
            "Building wheels for collected packages: keras-contrib\n",
            "  Building wheel for keras-contrib (setup.py) ... \u001b[?25l\u001b[?25hdone\n",
            "  Created wheel for keras-contrib: filename=keras_contrib-2.0.8-cp36-none-any.whl size=101064 sha256=c2b601a19785bc695b0ace39944cb709560881220d921613a3c45d06a8ea7317\n",
            "  Stored in directory: /tmp/pip-ephem-wheel-cache-q9s7owxh/wheels/11/27/c8/4ed56de7b55f4f61244e2dc6ef3cdbaff2692527a2ce6502ba\n",
            "Successfully built keras-contrib\n",
            "Installing collected packages: keras-contrib\n",
            "Successfully installed keras-contrib-2.0.8\n"
          ],
          "name": "stdout"
        }
      ]
    },
    {
      "cell_type": "code",
      "metadata": {
        "id": "JSHVm2IihnSp",
        "colab_type": "code",
        "colab": {}
      },
      "source": [
        "from keras.optimizers import Adam\n",
        "from keras.initializers import RandomNormal\n",
        "from keras.models import Model, Input\n",
        "from keras.layers import Conv2D, LeakyReLU, Activation, Concatenate, BatchNormalization, Conv2DTranspose\n",
        "from keras_contrib.layers.normalization.instancenormalization import InstanceNormalization\n",
        "from keras.preprocessing.image import img_to_array, load_img\n",
        "from keras.utils.vis_utils import plot_model\n",
        "import keras.backend as K\n",
        "K.clear_session()\n",
        "\n",
        "import numpy as np\n",
        "import os\n",
        "from matplotlib import pyplot"
      ],
      "execution_count": 0,
      "outputs": []
    },
    {
      "cell_type": "markdown",
      "metadata": {
        "id": "hF-74KcruSiP",
        "colab_type": "text"
      },
      "source": [
        "Veri İşlemleri Operasyonları"
      ]
    },
    {
      "cell_type": "code",
      "metadata": {
        "id": "MZjCMC24X_HV",
        "colab_type": "code",
        "colab": {}
      },
      "source": [
        "class DataOperations():\n",
        "\n",
        " \n",
        "  @staticmethod #Resimlerin boyutunu 256,256 yapıp array'e dönüştürüp npz uzantılı kaydeden metod\n",
        "  def import_and_save_images(name, path, size=(256,256)):  \n",
        "    data_list = list()\n",
        "    img_list = os.listdir(path)\n",
        "    img_list.sort()\n",
        "\n",
        "    count = 0\n",
        "    for filename in img_list:\n",
        "      pixels = load_img(path + filename, target_size=size)\n",
        "      pixels = img_to_array(pixels)\n",
        "      data_list.append(pixels)\n",
        "      count += 1\n",
        "      if count%1 == 0:\n",
        "        print(count, \". Appended\")\n",
        "    \n",
        "    filename = name + '_256.npz'\n",
        "    np.savez_compressed(path+filename, np.asarray(data_list))\n",
        "    print('Saved dataset: ', filename)\n",
        "    return filename\n",
        "\n",
        "  \n",
        "  @staticmethod #kaydedilmiş resimleri [-1,1] aralığına sokup geri yükleyen metod\n",
        "  def load_samples(filename1,filename2):\n",
        "\n",
        "    file1 = np.load(filename1)\n",
        "    file1 = file1['arr_0']\n",
        "    file1 = (file1 - 127.5) / 127.5\n",
        "\n",
        "    file2 = np.load(filename2)\n",
        "    file2 = file2['arr_0']\n",
        "    file2 = (file2 - 127.5) / 127.5\n",
        "\n",
        "    print('Loaded: ',filename1,\" and \" ,filename2)\n",
        "    return file1,file2"
      ],
      "execution_count": 0,
      "outputs": []
    },
    {
      "cell_type": "markdown",
      "metadata": {
        "id": "rBLg1NCwuPlQ",
        "colab_type": "text"
      },
      "source": [
        "CycleGAN class'ı."
      ]
    },
    {
      "cell_type": "code",
      "metadata": {
        "id": "W_r5Ak4fST8m",
        "colab_type": "code",
        "colab": {}
      },
      "source": [
        "class CycleGAN():\n",
        "\n",
        "  @staticmethod #discriminatör modeli\n",
        "  def define_discriminator(image_shape):\n",
        "    init_disc = RandomNormal(stddev=0.02) #weight init\n",
        "\n",
        "    input_image = Input(shape=image_shape)  #input\n",
        "\n",
        "    d = Conv2D(64, (4,4), strides=(2,2), padding='same', kernel_initializer=init_disc)(input_image)\n",
        "    d = LeakyReLU(alpha=0.2)(d)\n",
        "\n",
        "    d = Conv2D(128, (4,4), strides=(2,2), padding='same', kernel_initializer=init_disc)(d)\n",
        "    d = InstanceNormalization(axis=-1)(d)\n",
        "    d = LeakyReLU(alpha=0.2)(d)\n",
        "\n",
        "    d = Conv2D(256, (4,4), strides=(2,2), padding='same', kernel_initializer=init_disc)(d)\n",
        "    d = InstanceNormalization(axis=-1)(d)\n",
        "    d = LeakyReLU(alpha=0.2)(d)\n",
        "\n",
        "    d = Conv2D(512, (4,4), strides=(2,2), padding='same', kernel_initializer=init_disc)(d)\n",
        "    d = InstanceNormalization(axis=-1)(d)\n",
        "    d = LeakyReLU(alpha=0.2)(d)\n",
        "\n",
        "    d = Conv2D(512, (4,4), padding='same', kernel_initializer=init_disc)(d)\n",
        "    d = InstanceNormalization(axis=-1)(d)\n",
        "    d = LeakyReLU(alpha=0.2)(d)\n",
        "\n",
        "    output_image = Conv2D(1, (4,4), padding='same', kernel_initializer=init_disc)(d)\n",
        "\n",
        "    model = Model(input_image, output_image)\n",
        "    model.compile(loss='mse', optimizer=Adam(lr=0.0002, beta_1=0.5), loss_weights=[0.5])\n",
        "    return model\n",
        "\n",
        "  @staticmethod #resnet block of generator\n",
        "  def resnet_block(n_filters, input_layer):\n",
        "\n",
        "    init = RandomNormal(stddev=0.02)\n",
        "\n",
        "    g = Conv2D(n_filters, (3,3), padding='same', kernel_initializer=init)(input_layer)\n",
        "    g = InstanceNormalization(axis=-1)(g)\n",
        "    g = Activation('relu')(g)\n",
        "  \n",
        "    g = Conv2D(n_filters, (3,3), padding='same', kernel_initializer=init)(g)\n",
        "    g = InstanceNormalization(axis=-1)(g)\n",
        "\n",
        "    g = Concatenate()([g, input_layer])\n",
        "    return g\n",
        "\n",
        "  @staticmethod #generator model\n",
        "  def define_generator(image_shape=(256,256,3), n_resnet=9):\n",
        "\n",
        "    init = RandomNormal(stddev=0.02)\n",
        "\n",
        "    in_image = Input(shape=image_shape)\n",
        "\n",
        "    g = Conv2D(64, (7,7), padding='same', kernel_initializer=init)(in_image)\n",
        "    g = InstanceNormalization(axis=-1)(g)\n",
        "    g = Activation('relu')(g)\n",
        "\n",
        "    g = Conv2D(128, (3,3), strides=(2,2), padding='same', kernel_initializer=init)(g)\n",
        "    g = InstanceNormalization(axis=-1)(g)\n",
        "    g = Activation('relu')(g)\n",
        "\n",
        "    g = Conv2D(256, (3,3), strides=(2,2), padding='same', kernel_initializer=init)(g)\n",
        "    g = InstanceNormalization(axis=-1)(g)\n",
        "    g = Activation('relu')(g)\n",
        "\n",
        "    for _ in range(n_resnet):\n",
        "      g = CycleGAN.resnet_block(256, g)\n",
        "\n",
        "    g = Conv2DTranspose(128, (3,3), strides=(2,2), padding='same', kernel_initializer=init)(g)\n",
        "    g = InstanceNormalization(axis=-1)(g)\n",
        "    g = Activation('relu')(g)\n",
        "\n",
        "    g = Conv2DTranspose(64, (3,3), strides=(2,2), padding='same', kernel_initializer=init)(g)\n",
        "    g = InstanceNormalization(axis=-1)(g)\n",
        "    g = Activation('relu')(g)\n",
        "\n",
        "    g = Conv2D(3, (7,7), padding='same', kernel_initializer=init)(g)\n",
        "    g = InstanceNormalization(axis=-1)(g)\n",
        "    out_image = Activation('tanh')(g)\n",
        "\n",
        "    model = Model(in_image, out_image)\n",
        "    return model\n",
        "\n",
        "  @staticmethod #Komposit model\n",
        "  def define_composite_model(g_model_1, d_model, g_model_2, image_shape):\n",
        "\n",
        "    g_model_1.trainable = True\n",
        "    d_model.trainable = False\n",
        "    g_model_2.trainable = False\n",
        "\n",
        "    # Adverisal Model\n",
        "    input_gen = Input(shape=image_shape)\n",
        "    gen1_out = g_model_1(input_gen)\n",
        "    output_d = d_model(gen1_out)\n",
        "\n",
        "    # Identity Model\n",
        "    input_id = Input(shape=image_shape)\n",
        "    output_id = g_model_1(input_id)\n",
        "\n",
        "    # Forward Model\n",
        "    output_f = g_model_2(gen1_out)\n",
        "\n",
        "    # Backward cycle\n",
        "    gen2_out = g_model_2(input_id)\n",
        "    output_b = g_model_1(gen2_out)\n",
        "\n",
        "    model = Model([input_gen, input_id], [output_d, output_id, output_f, output_b])\n",
        "    model.compile(loss=['mse', 'mae', 'mae', 'mae'], loss_weights=[1, 5, 10, 10], optimizer=Adam(lr=0.0002, beta_1=0.5))\n",
        "    return model\n",
        "\n",
        "  @staticmethod #Veri setinden index'ten gelen fotoğrafı çekmek ve discriminator'e öğretmek\n",
        "  def generate_real_samples(dataset, n_samples, patch_shape):\n",
        "\n",
        "    ix = np.random.randint(0, dataset.shape[0], n_samples)\n",
        "    X = dataset[ix]\n",
        "    y = np.ones((n_samples, patch_shape, patch_shape, 1))\n",
        "    return X, y\n",
        "  \n",
        "  @staticmethod #generator modelden fake foto üretmek ve discriminator'e öğretmek\n",
        "  def generate_fake_samples(g_model, dataset, patch_shape=16):\n",
        "\n",
        "    X = g_model.predict(dataset)\n",
        "    y = np.zeros((len(X), patch_shape, patch_shape, 1))\n",
        "    return X, y\n",
        "\n",
        "  @staticmethod #Modelin karmaşıklığını arttırmak için pool'a fotoğraf ekleyip rastgele seçim yapmak.\n",
        "  def update_image_pool(pool, images, max_size=50):\n",
        "    selected = list()\n",
        "    for image in images:\n",
        "      \n",
        "      if len(pool) < max_size:\n",
        "        pool.append(image)\n",
        "        selected.append(image)\n",
        "      \n",
        "      elif random() < 0.5:\n",
        "        selected.append(image)\n",
        "      \n",
        "      else:\n",
        "        ix = randint(0, len(pool))\n",
        "        selected.append(pool[ix])\n",
        "        pool[ix] = image\n",
        "\n",
        "    return np.asarray(selected)\n",
        "\n",
        "  @staticmethod #Modeli ve ağırlıklarını savelemek\n",
        "  def save_models(step, g_model_AtoB, g_model_BtoA , d_model_A, d_model_B):\n",
        "    # save the first generator model\n",
        "    filename1 = '/content/drive/My Drive/PubgVsLife/g_model_AtoB_%06d.h5' % (step+1)\n",
        "    g_model_AtoB.save(filename1)\n",
        "    # save the second generator model\n",
        "    filename2 = '/content/drive/My Drive/PubgVsLife/g_model_BtoA_%06d.h5' % (step+1)\n",
        "    g_model_BtoA.save(filename2)\n",
        "\n",
        "    filename3 = '/content/drive/My Drive/PubgVsLife/d_model_A_%06d.h5' % (step+1)\n",
        "    d_model_A.save(filename3)\n",
        "\n",
        "    filename4 = '/content/drive/My Drive/PubgVsLife/d_model_B_%06d.h5' % (step+1)\n",
        "    d_model_B.save(filename4)\n",
        "\n",
        "    print('>Saved: %s and %s and %s and %s' % (filename1, filename2, filename3, filename4))\n",
        "\n",
        "\n",
        "  @staticmethod #performans özet\n",
        "  def summarize_performance(step, g_model, trainX, name, n_samples=5):\n",
        "\n",
        "    X_in, _ = CycleGAN.generate_real_samples(trainX, n_samples, 0)\n",
        "\n",
        "    X_out, _ = CycleGAN.generate_fake_samples(g_model, X_in, 0)\n",
        "\n",
        "    X_in = (X_in + 1) / 2.0\n",
        "    X_out = (X_out + 1) / 2.0\n",
        "\n",
        "    for i in range(n_samples):\n",
        "      pyplot.subplot(2, n_samples, 1 + i)\n",
        "      pyplot.axis('off')\n",
        "      pyplot.imshow(X_in[i])\n",
        "\n",
        "    for i in range(n_samples):\n",
        "      pyplot.subplot(2, n_samples, 1 + n_samples + i)\n",
        "      pyplot.axis('off')\n",
        "      pyplot.imshow(X_out[i])\n",
        "\n",
        "    filename1 = '/content/drive/My Drive/PubgVsLife/Photos/%s_generated_plot_%06d.png' % (name, (step+1))\n",
        "    pyplot.savefig(filename1)\n",
        "    pyplot.close()\n",
        "\n",
        "  @staticmethod #train kısmı\n",
        "  def train(d_model_A, d_model_B, g_model_AtoB, g_model_BtoA, c_model_AtoB, c_model_BtoA, realdata, nrrdata):\n",
        "    \n",
        "    n_epochs, n_batch, = 100, 1\n",
        "    n_patch = d_model_A.output_shape[1]\n",
        "    \n",
        "    trainA, trainB = realdata, nrrdata\n",
        "    poolA, poolB = list(), list()\n",
        "\n",
        "    n_steps = int(len(trainA)) * n_epochs\n",
        "\n",
        "\n",
        "    for i in range(n_steps):\n",
        "\n",
        "      index = np.random.randint(0,1000)\n",
        "\n",
        "\n",
        "      X_realA, y_realA = CycleGAN.generate_real_samples(trainA, n_batch, n_patch)\n",
        "      X_realB, y_realB = CycleGAN.generate_real_samples(trainB, n_batch, n_patch)\n",
        "\n",
        "\n",
        "      X_fakeA, y_fakeA = CycleGAN.generate_fake_samples(g_model_BtoA, X_realB, n_patch)\n",
        "      X_fakeB, y_fakeB = CycleGAN.generate_fake_samples(g_model_AtoB, X_realA, n_patch)\n",
        "\n",
        "      #X_fakeA = CycleGAN.update_image_pool(poolA, X_fakeA)\n",
        "      #X_fakeB = CycleGAN.update_image_pool(poolB, X_fakeB)\n",
        "\n",
        "\n",
        "      g_loss2, _, _, _, _  = c_model_BtoA.train_on_batch([X_realB, X_realA], [y_realA, X_realA, X_realB, X_realA])\n",
        "\n",
        "\n",
        "      dA_loss1 = d_model_A.train_on_batch(X_realA, y_realA)\n",
        "      dA_loss2 = d_model_A.train_on_batch(X_fakeA, y_fakeA)\n",
        "\n",
        "\n",
        "      g_loss1, _, _, _, _ = c_model_AtoB.train_on_batch([X_realA, X_realB], [y_realB, X_realB, X_realA, X_realB])\n",
        "\n",
        "\n",
        "      dB_loss1 = d_model_B.train_on_batch(X_realB, y_realB)\n",
        "      dB_loss2 = d_model_B.train_on_batch(X_fakeB, y_fakeB)\n",
        "  \n",
        "\n",
        "      print('>%d, dA[%.3f,%.3f] dB[%.3f,%.3f] g[%.3f,%.3f]' % (i+1, dA_loss1,dA_loss2, dB_loss1,dB_loss2, g_loss1,g_loss2))\n",
        "\n",
        "\n",
        "      if (i+1) % int(len(trainA)) == 0:\n",
        "        CycleGAN.summarize_performance(i, g_model_AtoB, trainA, 'AtoB')\n",
        "        CycleGAN.summarize_performance(i, g_model_BtoA, trainB, 'BtoA')\n",
        "\n",
        "        CycleGAN.save_models(i, g_model_AtoB, g_model_BtoA , d_model_A, d_model_B)\n",
        "\n",
        "      \n",
        "      #pyplot.imshow(xx[2].astype('uint8'))"
      ],
      "execution_count": 0,
      "outputs": []
    },
    {
      "cell_type": "markdown",
      "metadata": {
        "id": "MxydkBbvLZ5D",
        "colab_type": "text"
      },
      "source": [
        "#ANA OPERASYONLAR"
      ]
    },
    {
      "cell_type": "markdown",
      "metadata": {
        "id": "rnXEPdvIvWM4",
        "colab_type": "text"
      },
      "source": [
        "200x200 veriyi 256x256 ya dönüştürüp .npz olarak kaydettiğimiz kısım"
      ]
    },
    {
      "cell_type": "code",
      "metadata": {
        "id": "xAMCP8fiOd7O",
        "colab_type": "code",
        "colab": {
          "base_uri": "https://localhost:8080/",
          "height": 343
        },
        "outputId": "15efd470-f125-4c83-8db3-2674a88cc01d"
      },
      "source": [
        "real_path = \"/content/drive/My Drive/image1k/Real1k/\"\n",
        "nrr_path = \"/content/drive/My Drive/image1k/NotReallyReal1k/\"\n",
        "\n",
        "realName = DataOperations.import_and_save_images(\"real\",real_path,size=(256,256))\n",
        "nrrName = DataOperations.import_and_save_images(\"nrr\",nrr_path,size=(256,256))"
      ],
      "execution_count": 21,
      "outputs": [
        {
          "output_type": "error",
          "ename": "FileNotFoundError",
          "evalue": "ignored",
          "traceback": [
            "\u001b[0;31m---------------------------------------------------------------------------\u001b[0m",
            "\u001b[0;31mFileNotFoundError\u001b[0m                         Traceback (most recent call last)",
            "\u001b[0;32m<ipython-input-21-1385b6a8eb0f>\u001b[0m in \u001b[0;36m<module>\u001b[0;34m()\u001b[0m\n\u001b[1;32m      2\u001b[0m \u001b[0mnrr_path\u001b[0m \u001b[0;34m=\u001b[0m \u001b[0;34m\"/content/drive/My Drive/image1k/NotReallyReal1k/\"\u001b[0m\u001b[0;34m\u001b[0m\u001b[0;34m\u001b[0m\u001b[0m\n\u001b[1;32m      3\u001b[0m \u001b[0;34m\u001b[0m\u001b[0m\n\u001b[0;32m----> 4\u001b[0;31m \u001b[0mrealName\u001b[0m \u001b[0;34m=\u001b[0m \u001b[0mDataOperations\u001b[0m\u001b[0;34m.\u001b[0m\u001b[0mimport_and_save_images\u001b[0m\u001b[0;34m(\u001b[0m\u001b[0;34m\"real\"\u001b[0m\u001b[0;34m,\u001b[0m\u001b[0mreal_path\u001b[0m\u001b[0;34m,\u001b[0m\u001b[0msize\u001b[0m\u001b[0;34m=\u001b[0m\u001b[0;34m(\u001b[0m\u001b[0;36m256\u001b[0m\u001b[0;34m,\u001b[0m\u001b[0;36m256\u001b[0m\u001b[0;34m)\u001b[0m\u001b[0;34m)\u001b[0m\u001b[0;34m\u001b[0m\u001b[0;34m\u001b[0m\u001b[0m\n\u001b[0m\u001b[1;32m      5\u001b[0m \u001b[0mnrrName\u001b[0m \u001b[0;34m=\u001b[0m \u001b[0mDataOperations\u001b[0m\u001b[0;34m.\u001b[0m\u001b[0mimport_and_save_images\u001b[0m\u001b[0;34m(\u001b[0m\u001b[0;34m\"nrr\"\u001b[0m\u001b[0;34m,\u001b[0m\u001b[0mnrr_path\u001b[0m\u001b[0;34m,\u001b[0m\u001b[0msize\u001b[0m\u001b[0;34m=\u001b[0m\u001b[0;34m(\u001b[0m\u001b[0;36m256\u001b[0m\u001b[0;34m,\u001b[0m\u001b[0;36m256\u001b[0m\u001b[0;34m)\u001b[0m\u001b[0;34m)\u001b[0m\u001b[0;34m\u001b[0m\u001b[0;34m\u001b[0m\u001b[0m\n",
            "\u001b[0;32m<ipython-input-6-bf94c9757fed>\u001b[0m in \u001b[0;36mimport_and_save_images\u001b[0;34m(name, path, size)\u001b[0m\n\u001b[1;32m      5\u001b[0m   \u001b[0;32mdef\u001b[0m \u001b[0mimport_and_save_images\u001b[0m\u001b[0;34m(\u001b[0m\u001b[0mname\u001b[0m\u001b[0;34m,\u001b[0m \u001b[0mpath\u001b[0m\u001b[0;34m,\u001b[0m \u001b[0msize\u001b[0m\u001b[0;34m=\u001b[0m\u001b[0;34m(\u001b[0m\u001b[0;36m256\u001b[0m\u001b[0;34m,\u001b[0m\u001b[0;36m256\u001b[0m\u001b[0;34m)\u001b[0m\u001b[0;34m)\u001b[0m\u001b[0;34m:\u001b[0m\u001b[0;34m\u001b[0m\u001b[0;34m\u001b[0m\u001b[0m\n\u001b[1;32m      6\u001b[0m     \u001b[0mdata_list\u001b[0m \u001b[0;34m=\u001b[0m \u001b[0mlist\u001b[0m\u001b[0;34m(\u001b[0m\u001b[0;34m)\u001b[0m\u001b[0;34m\u001b[0m\u001b[0;34m\u001b[0m\u001b[0m\n\u001b[0;32m----> 7\u001b[0;31m     \u001b[0mimg_list\u001b[0m \u001b[0;34m=\u001b[0m \u001b[0mos\u001b[0m\u001b[0;34m.\u001b[0m\u001b[0mlistdir\u001b[0m\u001b[0;34m(\u001b[0m\u001b[0mpath\u001b[0m\u001b[0;34m)\u001b[0m\u001b[0;34m\u001b[0m\u001b[0;34m\u001b[0m\u001b[0m\n\u001b[0m\u001b[1;32m      8\u001b[0m     \u001b[0mimg_list\u001b[0m\u001b[0;34m.\u001b[0m\u001b[0msort\u001b[0m\u001b[0;34m(\u001b[0m\u001b[0;34m)\u001b[0m\u001b[0;34m\u001b[0m\u001b[0;34m\u001b[0m\u001b[0m\n\u001b[1;32m      9\u001b[0m \u001b[0;34m\u001b[0m\u001b[0m\n",
            "\u001b[0;31mFileNotFoundError\u001b[0m: [Errno 2] No such file or directory: '/content/drive/My Drive/image1k/Real1k/'"
          ]
        }
      ]
    },
    {
      "cell_type": "markdown",
      "metadata": {
        "id": "ja0PoVjgvqoD",
        "colab_type": "text"
      },
      "source": [
        ".npz dosyasından import etmek"
      ]
    },
    {
      "cell_type": "code",
      "metadata": {
        "id": "8Ju2M7xXUQkE",
        "colab_type": "code",
        "outputId": "5fa228c4-9486-4437-8f46-a6933029efe0",
        "colab": {
          "base_uri": "https://localhost:8080/",
          "height": 34
        }
      },
      "source": [
        "path = \"/content/drive/My Drive/PubgVsLife/\"\n",
        "lifedata , pubgdata = DataOperations.load_samples(path+\"life.npz\", path+\"pubg.npz\")"
      ],
      "execution_count": 22,
      "outputs": [
        {
          "output_type": "stream",
          "text": [
            "Loaded:  /content/drive/My Drive/PubgVsLife/life.npz  and  /content/drive/My Drive/PubgVsLife/pubg.npz\n"
          ],
          "name": "stdout"
        }
      ]
    },
    {
      "cell_type": "markdown",
      "metadata": {
        "id": "m42ZzNqpvxl3",
        "colab_type": "text"
      },
      "source": [
        "İlk çalıştırma için modellerin oluşturulması"
      ]
    },
    {
      "cell_type": "code",
      "metadata": {
        "id": "6zr1SC4nwuQT",
        "colab_type": "code",
        "colab": {
          "base_uri": "https://localhost:8080/",
          "height": 350
        },
        "outputId": "8146e490-9782-4439-8c76-b638488bb71f"
      },
      "source": [
        "image_shape = lifedata.shape[1:]\n",
        "\n",
        "g_model_AtoB = CycleGAN.define_generator(image_shape)\n",
        "g_model_BtoA = CycleGAN.define_generator(image_shape)\n",
        "\n",
        "d_model_A = CycleGAN.define_discriminator(image_shape)\n",
        "d_model_B = CycleGAN.define_discriminator(image_shape)\n",
        "\n",
        "c_model_AtoB = CycleGAN.define_composite_model(g_model_AtoB, d_model_B, g_model_BtoA, image_shape)\n",
        "c_model_BtoA = CycleGAN.define_composite_model(g_model_BtoA, d_model_A, g_model_AtoB, image_shape)"
      ],
      "execution_count": 23,
      "outputs": [
        {
          "output_type": "error",
          "ename": "KeyboardInterrupt",
          "evalue": "ignored",
          "traceback": [
            "\u001b[0;31m---------------------------------------------------------------------------\u001b[0m",
            "\u001b[0;31mKeyboardInterrupt\u001b[0m                         Traceback (most recent call last)",
            "\u001b[0;32m<ipython-input-23-05ad9bdfde4b>\u001b[0m in \u001b[0;36m<module>\u001b[0;34m()\u001b[0m\n\u001b[1;32m      8\u001b[0m \u001b[0;34m\u001b[0m\u001b[0m\n\u001b[1;32m      9\u001b[0m \u001b[0mc_model_AtoB\u001b[0m \u001b[0;34m=\u001b[0m \u001b[0mCycleGAN\u001b[0m\u001b[0;34m.\u001b[0m\u001b[0mdefine_composite_model\u001b[0m\u001b[0;34m(\u001b[0m\u001b[0mg_model_AtoB\u001b[0m\u001b[0;34m,\u001b[0m \u001b[0md_model_B\u001b[0m\u001b[0;34m,\u001b[0m \u001b[0mg_model_BtoA\u001b[0m\u001b[0;34m,\u001b[0m \u001b[0mimage_shape\u001b[0m\u001b[0;34m)\u001b[0m\u001b[0;34m\u001b[0m\u001b[0;34m\u001b[0m\u001b[0m\n\u001b[0;32m---> 10\u001b[0;31m \u001b[0mc_model_BtoA\u001b[0m \u001b[0;34m=\u001b[0m \u001b[0mCycleGAN\u001b[0m\u001b[0;34m.\u001b[0m\u001b[0mdefine_composite_model\u001b[0m\u001b[0;34m(\u001b[0m\u001b[0mg_model_BtoA\u001b[0m\u001b[0;34m,\u001b[0m \u001b[0md_model_A\u001b[0m\u001b[0;34m,\u001b[0m \u001b[0mg_model_AtoB\u001b[0m\u001b[0;34m,\u001b[0m \u001b[0mimage_shape\u001b[0m\u001b[0;34m)\u001b[0m\u001b[0;34m\u001b[0m\u001b[0;34m\u001b[0m\u001b[0m\n\u001b[0m",
            "\u001b[0;32m<ipython-input-20-a5eab38503f9>\u001b[0m in \u001b[0;36mdefine_composite_model\u001b[0;34m(g_model_1, d_model, g_model_2, image_shape)\u001b[0m\n\u001b[1;32m     94\u001b[0m     \u001b[0minput_gen\u001b[0m \u001b[0;34m=\u001b[0m \u001b[0mInput\u001b[0m\u001b[0;34m(\u001b[0m\u001b[0mshape\u001b[0m\u001b[0;34m=\u001b[0m\u001b[0mimage_shape\u001b[0m\u001b[0;34m)\u001b[0m\u001b[0;34m\u001b[0m\u001b[0;34m\u001b[0m\u001b[0m\n\u001b[1;32m     95\u001b[0m     \u001b[0mgen1_out\u001b[0m \u001b[0;34m=\u001b[0m \u001b[0mg_model_1\u001b[0m\u001b[0;34m(\u001b[0m\u001b[0minput_gen\u001b[0m\u001b[0;34m)\u001b[0m\u001b[0;34m\u001b[0m\u001b[0;34m\u001b[0m\u001b[0m\n\u001b[0;32m---> 96\u001b[0;31m     \u001b[0moutput_d\u001b[0m \u001b[0;34m=\u001b[0m \u001b[0md_model\u001b[0m\u001b[0;34m(\u001b[0m\u001b[0mgen1_out\u001b[0m\u001b[0;34m)\u001b[0m\u001b[0;34m\u001b[0m\u001b[0;34m\u001b[0m\u001b[0m\n\u001b[0m\u001b[1;32m     97\u001b[0m \u001b[0;34m\u001b[0m\u001b[0m\n\u001b[1;32m     98\u001b[0m     \u001b[0;31m# Identity Model\u001b[0m\u001b[0;34m\u001b[0m\u001b[0;34m\u001b[0m\u001b[0;34m\u001b[0m\u001b[0m\n",
            "\u001b[0;32m/usr/local/lib/python3.6/dist-packages/keras/backend/tensorflow_backend.py\u001b[0m in \u001b[0;36msymbolic_fn_wrapper\u001b[0;34m(*args, **kwargs)\u001b[0m\n\u001b[1;32m     73\u001b[0m         \u001b[0;32mif\u001b[0m \u001b[0m_SYMBOLIC_SCOPE\u001b[0m\u001b[0;34m.\u001b[0m\u001b[0mvalue\u001b[0m\u001b[0;34m:\u001b[0m\u001b[0;34m\u001b[0m\u001b[0;34m\u001b[0m\u001b[0m\n\u001b[1;32m     74\u001b[0m             \u001b[0;32mwith\u001b[0m \u001b[0mget_graph\u001b[0m\u001b[0;34m(\u001b[0m\u001b[0;34m)\u001b[0m\u001b[0;34m.\u001b[0m\u001b[0mas_default\u001b[0m\u001b[0;34m(\u001b[0m\u001b[0;34m)\u001b[0m\u001b[0;34m:\u001b[0m\u001b[0;34m\u001b[0m\u001b[0;34m\u001b[0m\u001b[0m\n\u001b[0;32m---> 75\u001b[0;31m                 \u001b[0;32mreturn\u001b[0m \u001b[0mfunc\u001b[0m\u001b[0;34m(\u001b[0m\u001b[0;34m*\u001b[0m\u001b[0margs\u001b[0m\u001b[0;34m,\u001b[0m \u001b[0;34m**\u001b[0m\u001b[0mkwargs\u001b[0m\u001b[0;34m)\u001b[0m\u001b[0;34m\u001b[0m\u001b[0;34m\u001b[0m\u001b[0m\n\u001b[0m\u001b[1;32m     76\u001b[0m         \u001b[0;32melse\u001b[0m\u001b[0;34m:\u001b[0m\u001b[0;34m\u001b[0m\u001b[0;34m\u001b[0m\u001b[0m\n\u001b[1;32m     77\u001b[0m             \u001b[0;32mreturn\u001b[0m \u001b[0mfunc\u001b[0m\u001b[0;34m(\u001b[0m\u001b[0;34m*\u001b[0m\u001b[0margs\u001b[0m\u001b[0;34m,\u001b[0m \u001b[0;34m**\u001b[0m\u001b[0mkwargs\u001b[0m\u001b[0;34m)\u001b[0m\u001b[0;34m\u001b[0m\u001b[0;34m\u001b[0m\u001b[0m\n",
            "\u001b[0;32m/usr/local/lib/python3.6/dist-packages/keras/engine/base_layer.py\u001b[0m in \u001b[0;36m__call__\u001b[0;34m(self, inputs, **kwargs)\u001b[0m\n\u001b[1;32m    487\u001b[0m             \u001b[0;31m# Actually call the layer,\u001b[0m\u001b[0;34m\u001b[0m\u001b[0;34m\u001b[0m\u001b[0;34m\u001b[0m\u001b[0m\n\u001b[1;32m    488\u001b[0m             \u001b[0;31m# collecting output(s), mask(s), and shape(s).\u001b[0m\u001b[0;34m\u001b[0m\u001b[0;34m\u001b[0m\u001b[0;34m\u001b[0m\u001b[0m\n\u001b[0;32m--> 489\u001b[0;31m             \u001b[0moutput\u001b[0m \u001b[0;34m=\u001b[0m \u001b[0mself\u001b[0m\u001b[0;34m.\u001b[0m\u001b[0mcall\u001b[0m\u001b[0;34m(\u001b[0m\u001b[0minputs\u001b[0m\u001b[0;34m,\u001b[0m \u001b[0;34m**\u001b[0m\u001b[0mkwargs\u001b[0m\u001b[0;34m)\u001b[0m\u001b[0;34m\u001b[0m\u001b[0;34m\u001b[0m\u001b[0m\n\u001b[0m\u001b[1;32m    490\u001b[0m             \u001b[0moutput_mask\u001b[0m \u001b[0;34m=\u001b[0m \u001b[0mself\u001b[0m\u001b[0;34m.\u001b[0m\u001b[0mcompute_mask\u001b[0m\u001b[0;34m(\u001b[0m\u001b[0minputs\u001b[0m\u001b[0;34m,\u001b[0m \u001b[0mprevious_mask\u001b[0m\u001b[0;34m)\u001b[0m\u001b[0;34m\u001b[0m\u001b[0;34m\u001b[0m\u001b[0m\n\u001b[1;32m    491\u001b[0m \u001b[0;34m\u001b[0m\u001b[0m\n",
            "\u001b[0;32m/usr/local/lib/python3.6/dist-packages/keras/engine/network.py\u001b[0m in \u001b[0;36mcall\u001b[0;34m(self, inputs, mask)\u001b[0m\n\u001b[1;32m    581\u001b[0m             \u001b[0;32mreturn\u001b[0m \u001b[0mself\u001b[0m\u001b[0;34m.\u001b[0m\u001b[0m_output_tensor_cache\u001b[0m\u001b[0;34m[\u001b[0m\u001b[0mcache_key\u001b[0m\u001b[0;34m]\u001b[0m\u001b[0;34m\u001b[0m\u001b[0;34m\u001b[0m\u001b[0m\n\u001b[1;32m    582\u001b[0m         \u001b[0;32melse\u001b[0m\u001b[0;34m:\u001b[0m\u001b[0;34m\u001b[0m\u001b[0;34m\u001b[0m\u001b[0m\n\u001b[0;32m--> 583\u001b[0;31m             \u001b[0moutput_tensors\u001b[0m\u001b[0;34m,\u001b[0m \u001b[0m_\u001b[0m\u001b[0;34m,\u001b[0m \u001b[0m_\u001b[0m \u001b[0;34m=\u001b[0m \u001b[0mself\u001b[0m\u001b[0;34m.\u001b[0m\u001b[0mrun_internal_graph\u001b[0m\u001b[0;34m(\u001b[0m\u001b[0minputs\u001b[0m\u001b[0;34m,\u001b[0m \u001b[0mmasks\u001b[0m\u001b[0;34m)\u001b[0m\u001b[0;34m\u001b[0m\u001b[0;34m\u001b[0m\u001b[0m\n\u001b[0m\u001b[1;32m    584\u001b[0m             \u001b[0;32mreturn\u001b[0m \u001b[0moutput_tensors\u001b[0m\u001b[0;34m\u001b[0m\u001b[0;34m\u001b[0m\u001b[0m\n\u001b[1;32m    585\u001b[0m \u001b[0;34m\u001b[0m\u001b[0m\n",
            "\u001b[0;32m/usr/local/lib/python3.6/dist-packages/keras/engine/network.py\u001b[0m in \u001b[0;36mrun_internal_graph\u001b[0;34m(self, inputs, masks)\u001b[0m\n\u001b[1;32m    738\u001b[0m                                     \u001b[0mkwargs\u001b[0m\u001b[0;34m[\u001b[0m\u001b[0;34m'mask'\u001b[0m\u001b[0;34m]\u001b[0m \u001b[0;34m=\u001b[0m \u001b[0mcomputed_mask\u001b[0m\u001b[0;34m\u001b[0m\u001b[0;34m\u001b[0m\u001b[0m\n\u001b[1;32m    739\u001b[0m                             output_tensors = to_list(\n\u001b[0;32m--> 740\u001b[0;31m                                 layer.call(computed_tensor, **kwargs))\n\u001b[0m\u001b[1;32m    741\u001b[0m                             output_masks = layer.compute_mask(computed_tensor,\n\u001b[1;32m    742\u001b[0m                                                               computed_mask)\n",
            "\u001b[0;32m/usr/local/lib/python3.6/dist-packages/keras_contrib/layers/normalization/instancenormalization.py\u001b[0m in \u001b[0;36mcall\u001b[0;34m(self, inputs, training)\u001b[0m\n\u001b[1;32m    116\u001b[0m \u001b[0;34m\u001b[0m\u001b[0m\n\u001b[1;32m    117\u001b[0m         \u001b[0mmean\u001b[0m \u001b[0;34m=\u001b[0m \u001b[0mK\u001b[0m\u001b[0;34m.\u001b[0m\u001b[0mmean\u001b[0m\u001b[0;34m(\u001b[0m\u001b[0minputs\u001b[0m\u001b[0;34m,\u001b[0m \u001b[0mreduction_axes\u001b[0m\u001b[0;34m,\u001b[0m \u001b[0mkeepdims\u001b[0m\u001b[0;34m=\u001b[0m\u001b[0;32mTrue\u001b[0m\u001b[0;34m)\u001b[0m\u001b[0;34m\u001b[0m\u001b[0;34m\u001b[0m\u001b[0m\n\u001b[0;32m--> 118\u001b[0;31m         \u001b[0mstddev\u001b[0m \u001b[0;34m=\u001b[0m \u001b[0mK\u001b[0m\u001b[0;34m.\u001b[0m\u001b[0mstd\u001b[0m\u001b[0;34m(\u001b[0m\u001b[0minputs\u001b[0m\u001b[0;34m,\u001b[0m \u001b[0mreduction_axes\u001b[0m\u001b[0;34m,\u001b[0m \u001b[0mkeepdims\u001b[0m\u001b[0;34m=\u001b[0m\u001b[0;32mTrue\u001b[0m\u001b[0;34m)\u001b[0m \u001b[0;34m+\u001b[0m \u001b[0mself\u001b[0m\u001b[0;34m.\u001b[0m\u001b[0mepsilon\u001b[0m\u001b[0;34m\u001b[0m\u001b[0;34m\u001b[0m\u001b[0m\n\u001b[0m\u001b[1;32m    119\u001b[0m         \u001b[0mnormed\u001b[0m \u001b[0;34m=\u001b[0m \u001b[0;34m(\u001b[0m\u001b[0minputs\u001b[0m \u001b[0;34m-\u001b[0m \u001b[0mmean\u001b[0m\u001b[0;34m)\u001b[0m \u001b[0;34m/\u001b[0m \u001b[0mstddev\u001b[0m\u001b[0;34m\u001b[0m\u001b[0;34m\u001b[0m\u001b[0m\n\u001b[1;32m    120\u001b[0m \u001b[0;34m\u001b[0m\u001b[0m\n",
            "\u001b[0;32m/usr/local/lib/python3.6/dist-packages/tensorflow/python/ops/math_ops.py\u001b[0m in \u001b[0;36mbinary_op_wrapper\u001b[0;34m(x, y)\u001b[0m\n\u001b[1;32m    986\u001b[0m         \u001b[0;32mtry\u001b[0m\u001b[0;34m:\u001b[0m\u001b[0;34m\u001b[0m\u001b[0;34m\u001b[0m\u001b[0m\n\u001b[1;32m    987\u001b[0m           y = ops.convert_to_tensor_v2(\n\u001b[0;32m--> 988\u001b[0;31m               y, dtype_hint=x.dtype.base_dtype, name=\"y\")\n\u001b[0m\u001b[1;32m    989\u001b[0m         \u001b[0;32mexcept\u001b[0m \u001b[0mTypeError\u001b[0m\u001b[0;34m:\u001b[0m\u001b[0;34m\u001b[0m\u001b[0;34m\u001b[0m\u001b[0m\n\u001b[1;32m    990\u001b[0m           \u001b[0;31m# If the RHS is not a tensor, it might be a tensor aware object\u001b[0m\u001b[0;34m\u001b[0m\u001b[0;34m\u001b[0m\u001b[0;34m\u001b[0m\u001b[0m\n",
            "\u001b[0;32m/usr/local/lib/python3.6/dist-packages/tensorflow/python/framework/ops.py\u001b[0m in \u001b[0;36mconvert_to_tensor_v2\u001b[0;34m(value, dtype, dtype_hint, name)\u001b[0m\n\u001b[1;32m   1281\u001b[0m       \u001b[0mname\u001b[0m\u001b[0;34m=\u001b[0m\u001b[0mname\u001b[0m\u001b[0;34m,\u001b[0m\u001b[0;34m\u001b[0m\u001b[0;34m\u001b[0m\u001b[0m\n\u001b[1;32m   1282\u001b[0m       \u001b[0mpreferred_dtype\u001b[0m\u001b[0;34m=\u001b[0m\u001b[0mdtype_hint\u001b[0m\u001b[0;34m,\u001b[0m\u001b[0;34m\u001b[0m\u001b[0;34m\u001b[0m\u001b[0m\n\u001b[0;32m-> 1283\u001b[0;31m       as_ref=False)\n\u001b[0m\u001b[1;32m   1284\u001b[0m \u001b[0;34m\u001b[0m\u001b[0m\n\u001b[1;32m   1285\u001b[0m \u001b[0;34m\u001b[0m\u001b[0m\n",
            "\u001b[0;32m/usr/local/lib/python3.6/dist-packages/tensorflow/python/framework/ops.py\u001b[0m in \u001b[0;36mconvert_to_tensor\u001b[0;34m(value, dtype, name, as_ref, preferred_dtype, dtype_hint, ctx, accepted_result_types)\u001b[0m\n\u001b[1;32m   1327\u001b[0m       \u001b[0;32mtry\u001b[0m\u001b[0;34m:\u001b[0m\u001b[0;34m\u001b[0m\u001b[0;34m\u001b[0m\u001b[0m\n\u001b[1;32m   1328\u001b[0m         ret = conversion_func(\n\u001b[0;32m-> 1329\u001b[0;31m             value, dtype=preferred_dtype, name=name, as_ref=as_ref)\n\u001b[0m\u001b[1;32m   1330\u001b[0m       \u001b[0;32mexcept\u001b[0m \u001b[0;34m(\u001b[0m\u001b[0mTypeError\u001b[0m\u001b[0;34m,\u001b[0m \u001b[0mValueError\u001b[0m\u001b[0;34m)\u001b[0m\u001b[0;34m:\u001b[0m\u001b[0;34m\u001b[0m\u001b[0;34m\u001b[0m\u001b[0m\n\u001b[1;32m   1331\u001b[0m         \u001b[0;31m# Could not coerce the conversion to use the preferred dtype.\u001b[0m\u001b[0;34m\u001b[0m\u001b[0;34m\u001b[0m\u001b[0;34m\u001b[0m\u001b[0m\n",
            "\u001b[0;32m/usr/local/lib/python3.6/dist-packages/tensorflow/python/framework/tensor_conversion_registry.py\u001b[0m in \u001b[0;36m_default_conversion_function\u001b[0;34m(***failed resolving arguments***)\u001b[0m\n\u001b[1;32m     50\u001b[0m \u001b[0;32mdef\u001b[0m \u001b[0m_default_conversion_function\u001b[0m\u001b[0;34m(\u001b[0m\u001b[0mvalue\u001b[0m\u001b[0;34m,\u001b[0m \u001b[0mdtype\u001b[0m\u001b[0;34m,\u001b[0m \u001b[0mname\u001b[0m\u001b[0;34m,\u001b[0m \u001b[0mas_ref\u001b[0m\u001b[0;34m)\u001b[0m\u001b[0;34m:\u001b[0m\u001b[0;34m\u001b[0m\u001b[0;34m\u001b[0m\u001b[0m\n\u001b[1;32m     51\u001b[0m   \u001b[0;32mdel\u001b[0m \u001b[0mas_ref\u001b[0m  \u001b[0;31m# Unused.\u001b[0m\u001b[0;34m\u001b[0m\u001b[0;34m\u001b[0m\u001b[0m\n\u001b[0;32m---> 52\u001b[0;31m   \u001b[0;32mreturn\u001b[0m \u001b[0mconstant_op\u001b[0m\u001b[0;34m.\u001b[0m\u001b[0mconstant\u001b[0m\u001b[0;34m(\u001b[0m\u001b[0mvalue\u001b[0m\u001b[0;34m,\u001b[0m \u001b[0mdtype\u001b[0m\u001b[0;34m,\u001b[0m \u001b[0mname\u001b[0m\u001b[0;34m=\u001b[0m\u001b[0mname\u001b[0m\u001b[0;34m)\u001b[0m\u001b[0;34m\u001b[0m\u001b[0;34m\u001b[0m\u001b[0m\n\u001b[0m\u001b[1;32m     53\u001b[0m \u001b[0;34m\u001b[0m\u001b[0m\n\u001b[1;32m     54\u001b[0m \u001b[0;34m\u001b[0m\u001b[0m\n",
            "\u001b[0;32m/usr/local/lib/python3.6/dist-packages/tensorflow/python/framework/constant_op.py\u001b[0m in \u001b[0;36mconstant\u001b[0;34m(value, dtype, shape, name)\u001b[0m\n\u001b[1;32m    260\u001b[0m   \"\"\"\n\u001b[1;32m    261\u001b[0m   return _constant_impl(value, dtype, shape, name, verify_shape=False,\n\u001b[0;32m--> 262\u001b[0;31m                         allow_broadcast=True)\n\u001b[0m\u001b[1;32m    263\u001b[0m \u001b[0;34m\u001b[0m\u001b[0m\n\u001b[1;32m    264\u001b[0m \u001b[0;34m\u001b[0m\u001b[0m\n",
            "\u001b[0;32m/usr/local/lib/python3.6/dist-packages/tensorflow/python/framework/constant_op.py\u001b[0m in \u001b[0;36m_constant_impl\u001b[0;34m(value, dtype, shape, name, verify_shape, allow_broadcast)\u001b[0m\n\u001b[1;32m    304\u001b[0m       attrs={\"value\": tensor_value,\n\u001b[1;32m    305\u001b[0m              \"dtype\": dtype_value},\n\u001b[0;32m--> 306\u001b[0;31m       name=name).outputs[0]\n\u001b[0m\u001b[1;32m    307\u001b[0m   \u001b[0;32mreturn\u001b[0m \u001b[0mconst_tensor\u001b[0m\u001b[0;34m\u001b[0m\u001b[0;34m\u001b[0m\u001b[0m\n\u001b[1;32m    308\u001b[0m \u001b[0;34m\u001b[0m\u001b[0m\n",
            "\u001b[0;32m/usr/local/lib/python3.6/dist-packages/tensorflow/python/framework/func_graph.py\u001b[0m in \u001b[0;36m_create_op_internal\u001b[0;34m(self, op_type, inputs, dtypes, input_types, name, attrs, op_def, compute_device)\u001b[0m\n\u001b[1;32m    593\u001b[0m     return super(FuncGraph, self)._create_op_internal(  # pylint: disable=protected-access\n\u001b[1;32m    594\u001b[0m         \u001b[0mop_type\u001b[0m\u001b[0;34m,\u001b[0m \u001b[0minputs\u001b[0m\u001b[0;34m,\u001b[0m \u001b[0mdtypes\u001b[0m\u001b[0;34m,\u001b[0m \u001b[0minput_types\u001b[0m\u001b[0;34m,\u001b[0m \u001b[0mname\u001b[0m\u001b[0;34m,\u001b[0m \u001b[0mattrs\u001b[0m\u001b[0;34m,\u001b[0m \u001b[0mop_def\u001b[0m\u001b[0;34m,\u001b[0m\u001b[0;34m\u001b[0m\u001b[0;34m\u001b[0m\u001b[0m\n\u001b[0;32m--> 595\u001b[0;31m         compute_device)\n\u001b[0m\u001b[1;32m    596\u001b[0m \u001b[0;34m\u001b[0m\u001b[0m\n\u001b[1;32m    597\u001b[0m   \u001b[0;32mdef\u001b[0m \u001b[0mcapture\u001b[0m\u001b[0;34m(\u001b[0m\u001b[0mself\u001b[0m\u001b[0;34m,\u001b[0m \u001b[0mtensor\u001b[0m\u001b[0;34m,\u001b[0m \u001b[0mname\u001b[0m\u001b[0;34m=\u001b[0m\u001b[0;32mNone\u001b[0m\u001b[0;34m,\u001b[0m \u001b[0mshape\u001b[0m\u001b[0;34m=\u001b[0m\u001b[0;32mNone\u001b[0m\u001b[0;34m)\u001b[0m\u001b[0;34m:\u001b[0m\u001b[0;34m\u001b[0m\u001b[0;34m\u001b[0m\u001b[0m\n",
            "\u001b[0;32m/usr/local/lib/python3.6/dist-packages/tensorflow/python/framework/ops.py\u001b[0m in \u001b[0;36m_create_op_internal\u001b[0;34m(self, op_type, inputs, dtypes, input_types, name, attrs, op_def, compute_device)\u001b[0m\n\u001b[1;32m   3326\u001b[0m           \u001b[0moriginal_op\u001b[0m\u001b[0;34m=\u001b[0m\u001b[0mself\u001b[0m\u001b[0;34m.\u001b[0m\u001b[0m_default_original_op\u001b[0m\u001b[0;34m,\u001b[0m\u001b[0;34m\u001b[0m\u001b[0;34m\u001b[0m\u001b[0m\n\u001b[1;32m   3327\u001b[0m           op_def=op_def)\n\u001b[0;32m-> 3328\u001b[0;31m       \u001b[0mself\u001b[0m\u001b[0;34m.\u001b[0m\u001b[0m_create_op_helper\u001b[0m\u001b[0;34m(\u001b[0m\u001b[0mret\u001b[0m\u001b[0;34m,\u001b[0m \u001b[0mcompute_device\u001b[0m\u001b[0;34m=\u001b[0m\u001b[0mcompute_device\u001b[0m\u001b[0;34m)\u001b[0m\u001b[0;34m\u001b[0m\u001b[0;34m\u001b[0m\u001b[0m\n\u001b[0m\u001b[1;32m   3329\u001b[0m     \u001b[0;32mreturn\u001b[0m \u001b[0mret\u001b[0m\u001b[0;34m\u001b[0m\u001b[0;34m\u001b[0m\u001b[0m\n\u001b[1;32m   3330\u001b[0m \u001b[0;34m\u001b[0m\u001b[0m\n",
            "\u001b[0;32m/usr/local/lib/python3.6/dist-packages/tensorflow/python/util/lock_util.py\u001b[0m in \u001b[0;36m__exit__\u001b[0;34m(***failed resolving arguments***)\u001b[0m\n\u001b[1;32m    126\u001b[0m     \u001b[0;32mdef\u001b[0m \u001b[0m__exit__\u001b[0m\u001b[0;34m(\u001b[0m\u001b[0mself\u001b[0m\u001b[0;34m,\u001b[0m \u001b[0mtype_arg\u001b[0m\u001b[0;34m,\u001b[0m \u001b[0mvalue_arg\u001b[0m\u001b[0;34m,\u001b[0m \u001b[0mtraceback_arg\u001b[0m\u001b[0;34m)\u001b[0m\u001b[0;34m:\u001b[0m\u001b[0;34m\u001b[0m\u001b[0;34m\u001b[0m\u001b[0m\n\u001b[1;32m    127\u001b[0m       \u001b[0;32mdel\u001b[0m \u001b[0mtype_arg\u001b[0m\u001b[0;34m,\u001b[0m \u001b[0mvalue_arg\u001b[0m\u001b[0;34m,\u001b[0m \u001b[0mtraceback_arg\u001b[0m\u001b[0;34m\u001b[0m\u001b[0;34m\u001b[0m\u001b[0m\n\u001b[0;32m--> 128\u001b[0;31m       \u001b[0mself\u001b[0m\u001b[0;34m.\u001b[0m\u001b[0m_lock\u001b[0m\u001b[0;34m.\u001b[0m\u001b[0mrelease\u001b[0m\u001b[0;34m(\u001b[0m\u001b[0mself\u001b[0m\u001b[0;34m.\u001b[0m\u001b[0m_group_id\u001b[0m\u001b[0;34m)\u001b[0m\u001b[0;34m\u001b[0m\u001b[0;34m\u001b[0m\u001b[0m\n\u001b[0m",
            "\u001b[0;32m/usr/local/lib/python3.6/dist-packages/tensorflow/python/util/lock_util.py\u001b[0m in \u001b[0;36mrelease\u001b[0;34m(self, group_id)\u001b[0m\n\u001b[1;32m     99\u001b[0m \u001b[0;34m\u001b[0m\u001b[0m\n\u001b[1;32m    100\u001b[0m     \u001b[0mself\u001b[0m\u001b[0;34m.\u001b[0m\u001b[0m_ready\u001b[0m\u001b[0;34m.\u001b[0m\u001b[0macquire\u001b[0m\u001b[0;34m(\u001b[0m\u001b[0;34m)\u001b[0m\u001b[0;34m\u001b[0m\u001b[0;34m\u001b[0m\u001b[0m\n\u001b[0;32m--> 101\u001b[0;31m     \u001b[0mself\u001b[0m\u001b[0;34m.\u001b[0m\u001b[0m_group_member_counts\u001b[0m\u001b[0;34m[\u001b[0m\u001b[0mgroup_id\u001b[0m\u001b[0;34m]\u001b[0m \u001b[0;34m-=\u001b[0m \u001b[0;36m1\u001b[0m\u001b[0;34m\u001b[0m\u001b[0;34m\u001b[0m\u001b[0m\n\u001b[0m\u001b[1;32m    102\u001b[0m     \u001b[0;32mif\u001b[0m \u001b[0mself\u001b[0m\u001b[0;34m.\u001b[0m\u001b[0m_group_member_counts\u001b[0m\u001b[0;34m[\u001b[0m\u001b[0mgroup_id\u001b[0m\u001b[0;34m]\u001b[0m \u001b[0;34m==\u001b[0m \u001b[0;36m0\u001b[0m\u001b[0;34m:\u001b[0m\u001b[0;34m\u001b[0m\u001b[0;34m\u001b[0m\u001b[0m\n\u001b[1;32m    103\u001b[0m       \u001b[0mself\u001b[0m\u001b[0;34m.\u001b[0m\u001b[0m_ready\u001b[0m\u001b[0;34m.\u001b[0m\u001b[0mnotifyAll\u001b[0m\u001b[0;34m(\u001b[0m\u001b[0;34m)\u001b[0m\u001b[0;34m\u001b[0m\u001b[0;34m\u001b[0m\u001b[0m\n",
            "\u001b[0;31mKeyboardInterrupt\u001b[0m: "
          ]
        }
      ]
    },
    {
      "cell_type": "markdown",
      "metadata": {
        "id": "YkqbHZ8cv0PH",
        "colab_type": "text"
      },
      "source": [
        "Daha önce çalıştırılmışsa modeli load edip çalıştırmak. Ya üstteki ya alttaki kod çalışır."
      ]
    },
    {
      "cell_type": "code",
      "metadata": {
        "id": "bpK3HcXvBn-M",
        "colab_type": "code",
        "colab": {}
      },
      "source": [
        "import keras.backend as K\n",
        "K.clear_session()\n",
        "\n",
        "\n",
        "from keras.models import load_model\n",
        "cust = {'InstanceNormalization': InstanceNormalization}\n",
        "\n",
        "g_model_AtoB = load_model('/content/drive/My Drive/PubgVsLife/g_model_AtoB_015892.h5', cust, compile=False)\n",
        "g_model_BtoA = load_model('/content/drive/My Drive/PubgVsLife/g_model_BtoA_015892.h5', cust, compile=False)\n",
        "\n",
        "d_model_A = load_model('/content/drive/My Drive/PubgVsLife/d_model_A_015892.h5', cust, compile=True)\n",
        "\n",
        "d_model_B = load_model('/content/drive/My Drive/PubgVsLife/d_model_B_015892.h5', cust, compile=True)\n",
        "\n",
        "\n",
        "image_shape = lifedata.shape[1:]\n",
        "c_model_AtoB = CycleGAN.define_composite_model(g_model_AtoB, d_model_B, g_model_BtoA, image_shape)\n",
        "c_model_BtoA = CycleGAN.define_composite_model(g_model_BtoA, d_model_A, g_model_AtoB, image_shape)"
      ],
      "execution_count": 0,
      "outputs": []
    },
    {
      "cell_type": "markdown",
      "metadata": {
        "id": "JZsnDTe9wBeg",
        "colab_type": "text"
      },
      "source": [
        "Train başlasın"
      ]
    },
    {
      "cell_type": "code",
      "metadata": {
        "id": "vJds1auFeA3G",
        "colab_type": "code",
        "outputId": "35f7433a-beac-4be0-9756-eef792a3d30a",
        "colab": {
          "base_uri": "https://localhost:8080/",
          "height": 72
        }
      },
      "source": [
        "if __name__ == \"__main__\":\n",
        "  CycleGAN.train(d_model_A, d_model_B, g_model_AtoB, g_model_BtoA, c_model_AtoB, c_model_BtoA, lifedata, pubgdata)"
      ],
      "execution_count": 0,
      "outputs": [
        {
          "output_type": "stream",
          "text": [
            "/usr/local/lib/python3.6/dist-packages/keras/engine/training.py:297: UserWarning: Discrepancy between trainable weights and collected trainable weights, did you set `model.trainable` without calling `model.compile` after ?\n",
            "  'Discrepancy between trainable weights and collected trainable'\n"
          ],
          "name": "stderr"
        }
      ]
    },
    {
      "cell_type": "markdown",
      "metadata": {
        "id": "YRtd6Titsqxz",
        "colab_type": "text"
      },
      "source": [
        "#Deneme"
      ]
    },
    {
      "cell_type": "code",
      "metadata": {
        "id": "3gzeH1e0SvHS",
        "colab_type": "code",
        "colab": {}
      },
      "source": [
        "for i in range (548):\n",
        "\n",
        "  listx = []\n",
        "  listx.append(lifedata[i])\n",
        "  sample = np.asarray(listx)\n",
        "\n",
        "  sonuc = g_model_AtoB.predict(sample)\n",
        "  sonuc = (sonuc + 1) /2\n",
        "  pyplot.imshow(sonuc[0])\n",
        "  pyplot.axis('off')\n",
        "  filename1 = '/content/drive/My Drive/PubgVsLife/8768img/{}.png'.format(i)\n",
        "  pyplot.savefig(filename1)\n",
        "  pyplot.close()\n",
        "\n",
        "for i in range(548):\n",
        "  org = (lifedata[i]+1)/2\n",
        "  pyplot.imshow(org)\n",
        "  pyplot.axis('off')\n",
        "  filename1 = '/content/drive/My Drive/PubgVsLife/8768img/{}org.png'.format(i)\n",
        "  pyplot.savefig(filename1)\n",
        "  pyplot.close()"
      ],
      "execution_count": 0,
      "outputs": []
    },
    {
      "cell_type": "code",
      "metadata": {
        "id": "UR5QeiNp8VXF",
        "colab_type": "code",
        "outputId": "52cc6671-7809-4b88-9a44-afe9d4a1d45b",
        "colab": {
          "base_uri": "https://localhost:8080/",
          "height": 286
        }
      },
      "source": [
        "#64 epoch\n",
        "sample = \"/content/77.jpg\"\n",
        "annem = load_img(sample, target_size=(256,256))\n",
        "annem_array = img_to_array(annem)\n",
        "listx = []\n",
        "listx.append(annem_array)\n",
        "annem_array = np.asarray(listx)\n",
        "annem_array = (annem_array-127.5)/127.5\n",
        "sonuc = g_model_BtoA.predict(annem_array)\n",
        "sonuc = (sonuc + 1) /2\n",
        "pyplot.imshow(sonuc[0])"
      ],
      "execution_count": 0,
      "outputs": [
        {
          "output_type": "execute_result",
          "data": {
            "text/plain": [
              "<matplotlib.image.AxesImage at 0x7f47906f1cc0>"
            ]
          },
          "metadata": {
            "tags": []
          },
          "execution_count": 129
        },
        {
          "output_type": "display_data",
          "data": {
            "image/png": "[encoded data removed]",
            "text/plain": [
              "<Figure size 432x288 with 1 Axes>"
            ]
          },
          "metadata": {
            "tags": [],
            "needs_background": "light"
          }
        }
      ]
    }
  ]
}