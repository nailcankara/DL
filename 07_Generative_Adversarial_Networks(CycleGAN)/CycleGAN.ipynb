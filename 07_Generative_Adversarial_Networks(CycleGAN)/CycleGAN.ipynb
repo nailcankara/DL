{
  "nbformat": 4,
  "nbformat_minor": 0,
  "metadata": {
    "colab": {
      "name": "Untitled0 (4).ipynb",
      "provenance": [],
      "collapsed_sections": [],
      "toc_visible": true
    },
    "kernelspec": {
      "name": "python3",
      "display_name": "Python 3"
    },
    "accelerator": "GPU"
  },
  "cells": [
    {
      "cell_type": "markdown",
      "metadata": {
        "id": "FCDSQ_fMiA_-",
        "colab_type": "text"
      },
      "source": [
        "#**CycleGAN Keras İmplemantasyonu**"
      ]
    },
    {
      "cell_type": "markdown",
      "metadata": {
        "id": "VegZtdsjgVBP",
        "colab_type": "text"
      },
      "source": [
        "***Bu çalışma CycleGAN ile fotoğraflarda kapalı çıkan bir gözün açık haldeki tahminlemesi. Vanilla versiyon.***"
      ]
    },
    {
      "cell_type": "markdown",
      "metadata": {
        "id": "1wYpGiwbi2a8",
        "colab_type": "text"
      },
      "source": [
        "#CycleGAN Algoritması"
      ]
    },
    {
      "cell_type": "markdown",
      "metadata": {
        "id": "5kvCq_yCoK5D",
        "colab_type": "text"
      },
      "source": [
        "![alt text](https://i.hizliresim.com/qCV8Y0.jpg)\n",
        "\n",
        "\n"
      ]
    },
    {
      "cell_type": "markdown",
      "metadata": {
        "id": "iUggP26_Ppnu",
        "colab_type": "text"
      },
      "source": [
        "#1-Veri Hazırlama  \n",
        "CycleGAN doğası gereği pair fotoğraflara ihtiyaç duymaz. Fakat Modelimizin 300 milyon parametre içermesi, büyüklüğü ve eğitim zorluğu beni kendi pair çiftlerimi oluşturmaya itti. Açıkçası pek bir farkı yok gibi görünsede ve internette uzun araştırmalarım sonucunda en ufak 1 bilgi bulamasam bile bu konu hakkında hesaplama kolaylığı olduğunu düşünüyorum.\n",
        "\n",
        "\n",
        "23k gözleri açık facedatasetini cv2 kütüphanesinde bulunan Cascade Classifier'ı kullanarak gözlerini tespit ettim ve beyazla boyadım.\n",
        " \n",
        "Fakat ileride sadece 1k'sını kullanıcam.\n",
        "\n",
        "(source code'a eklediğim veriseti bu işlemin en son halidir)"
      ]
    },
    {
      "cell_type": "code",
      "metadata": {
        "id": "fp2CYPJTZe9G",
        "colab_type": "code",
        "outputId": "34fd4edf-5d0a-4058-99a0-5b79f8dc37ad",
        "colab": {
          "base_uri": "https://localhost:8080/",
          "height": 363
        }
      },
      "source": [
        "!nvidia-smi"
      ],
      "execution_count": 0,
      "outputs": [
        {
          "output_type": "stream",
          "text": [
            "Fri Jun 12 20:11:31 2020       \n",
            "+-----------------------------------------------------------------------------+\n",
            "| NVIDIA-SMI 450.36.06    Driver Version: 418.67       CUDA Version: 10.1     |\n",
            "|-------------------------------+----------------------+----------------------+\n",
            "| GPU  Name        Persistence-M| Bus-Id        Disp.A | Volatile Uncorr. ECC |\n",
            "| Fan  Temp  Perf  Pwr:Usage/Cap|         Memory-Usage | GPU-Util  Compute M. |\n",
            "|                               |                      |               MIG M. |\n",
            "|===============================+======================+======================|\n",
            "|   0  Tesla P100-PCIE...  Off  | 00000000:00:04.0 Off |                    0 |\n",
            "| N/A   43C    P0    27W / 250W |      0MiB / 16280MiB |      0%      Default |\n",
            "|                               |                      |                 ERR! |\n",
            "+-------------------------------+----------------------+----------------------+\n",
            "                                                                               \n",
            "+-----------------------------------------------------------------------------+\n",
            "| Processes:                                                                  |\n",
            "|  GPU   GI   CI        PID   Type   Process name                  GPU Memory |\n",
            "|        ID   ID                                                   Usage      |\n",
            "|=============================================================================|\n",
            "|  No running processes found                                                 |\n",
            "+-----------------------------------------------------------------------------+\n"
          ],
          "name": "stdout"
        }
      ]
    },
    {
      "cell_type": "code",
      "metadata": {
        "id": "tmOGswWHjsfj",
        "colab_type": "code",
        "outputId": "e8d23dae-6dbc-41dd-fa9f-ec85bcdcd2eb",
        "colab": {
          "base_uri": "https://localhost:8080/",
          "height": 54
        }
      },
      "source": [
        "from google.colab import drive\n",
        "drive.mount('/content/drive')"
      ],
      "execution_count": 0,
      "outputs": [
        {
          "output_type": "stream",
          "text": [
            "Drive already mounted at /content/drive; to attempt to forcibly remount, call drive.mount(\"/content/drive\", force_remount=True).\n"
          ],
          "name": "stdout"
        }
      ]
    },
    {
      "cell_type": "code",
      "metadata": {
        "id": "DWAtrXlUPD10",
        "colab_type": "code",
        "colab": {}
      },
      "source": [
        "!pip install -q kaggle"
      ],
      "execution_count": 0,
      "outputs": []
    },
    {
      "cell_type": "code",
      "metadata": {
        "id": "J1yxZQo6PDtF",
        "colab_type": "code",
        "colab": {}
      },
      "source": [
        "!mkdir ~/.kaggle"
      ],
      "execution_count": 0,
      "outputs": []
    },
    {
      "cell_type": "code",
      "metadata": {
        "id": "f7Tv6-3RPDqU",
        "colab_type": "code",
        "colab": {}
      },
      "source": [
        "!cp kaggle.json ~/.kaggle/"
      ],
      "execution_count": 0,
      "outputs": []
    },
    {
      "cell_type": "code",
      "metadata": {
        "id": "-71ytS89PDim",
        "colab_type": "code",
        "colab": {}
      },
      "source": [
        "!chmod 600 ~/.kaggle/kaggle.json"
      ],
      "execution_count": 0,
      "outputs": []
    },
    {
      "cell_type": "code",
      "metadata": {
        "id": "wWWtIuZWPDbn",
        "colab_type": "code",
        "colab": {}
      },
      "source": [
        "!kaggle datasets list"
      ],
      "execution_count": 0,
      "outputs": []
    },
    {
      "cell_type": "code",
      "metadata": {
        "id": "uq8nmw5QPDY1",
        "colab_type": "code",
        "colab": {}
      },
      "source": [
        "!kaggle datasets download -d abhikjha/utk-face-cropped"
      ],
      "execution_count": 0,
      "outputs": []
    },
    {
      "cell_type": "code",
      "metadata": {
        "id": "Qt0rg6sBPDWN",
        "colab_type": "code",
        "colab": {}
      },
      "source": [
        "!unzip utk-face-cropped.zip -d /content/Photos"
      ],
      "execution_count": 0,
      "outputs": []
    },
    {
      "cell_type": "code",
      "metadata": {
        "id": "0_h8eBx9PDTr",
        "colab_type": "code",
        "colab": {}
      },
      "source": [
        "cd /content/Photos/utkcropped"
      ],
      "execution_count": 0,
      "outputs": []
    },
    {
      "cell_type": "code",
      "metadata": {
        "id": "hRAtdAKFPDRG",
        "colab_type": "code",
        "colab": {}
      },
      "source": [
        "!rm -r utkcropped"
      ],
      "execution_count": 0,
      "outputs": []
    },
    {
      "cell_type": "code",
      "metadata": {
        "id": "-lt7Mm_TPDOH",
        "colab_type": "code",
        "colab": {}
      },
      "source": [
        "import os\n",
        "arr = os.listdir('.')\n",
        "for i in range(len(arr)):\n",
        "  os.rename(r'/content/Photos/utkcropped/{}'.format(arr[i]),r'/content/Photos/utkcropped/{}.jpg'.format(str(i)))\n",
        "  ##dosya isimlerini 0.jpg'den 23708.jpg'ye kadar numaralandırma"
      ],
      "execution_count": 0,
      "outputs": []
    },
    {
      "cell_type": "code",
      "metadata": {
        "id": "5eUmjEP4PDLe",
        "colab_type": "code",
        "colab": {}
      },
      "source": [
        "import cv2\n",
        "import matplotlib.pyplot as plt\n",
        "import matplotlib.pyplot as plt\n",
        "\n",
        "eye_cascade = cv2.CascadeClassifier(\"/content/eyedetection.xml\")"
      ],
      "execution_count": 0,
      "outputs": []
    },
    {
      "cell_type": "code",
      "metadata": {
        "id": "Mc9fw-hyPUmo",
        "colab_type": "code",
        "colab": {}
      },
      "source": [
        "def photoisokay(eyes):\n",
        "  if len(eyes) == 2:\n",
        "    return True\n",
        "  else:\n",
        "    return False"
      ],
      "execution_count": 0,
      "outputs": []
    },
    {
      "cell_type": "code",
      "metadata": {
        "id": "SoG9c3NjPUjl",
        "colab_type": "code",
        "colab": {}
      },
      "source": [
        "for index in range(len(arr)):\n",
        "\n",
        "  image_real = cv2.imread(arr[index])\n",
        "  image_fake = image_real.copy()\n",
        "\n",
        "  eyes = eye_cascade.detectMultiScale(image_fake,scaleFactor=1.1,minNeighbors=10)\n",
        "\n",
        "  if not photoisokay(eyes):\n",
        "    continue\n",
        "\n",
        "  for (x,y,w,h) in eyes:\n",
        "    cv2.rectangle(image_fake , (x,y) , (x+w,y+h) , (255,255,255) , -1)\n",
        "\n",
        "\n",
        "  cv2.imwrite('/content/Real/image{}.jpg'.format(index), image_real)\n",
        "  cv2.imwrite('/content/Fake/image{}.jpg'.format(index), image_fake)"
      ],
      "execution_count": 0,
      "outputs": []
    },
    {
      "cell_type": "markdown",
      "metadata": {
        "id": "BQyXZD2GPb6c",
        "colab_type": "text"
      },
      "source": [
        "#CycleGAN"
      ]
    },
    {
      "cell_type": "markdown",
      "metadata": {
        "id": "kqgAqAeLt2rJ",
        "colab_type": "text"
      },
      "source": [
        "Modeldeki kayıplar optimizer'lar ve çeşitli parametreler orjinal CycleGAN'ın pytorch implementation'ından alınmıştır. Zira bu modeli bile eğitmek 3 gün sürdüğü için gridsearch yapma şansım yok."
      ]
    },
    {
      "cell_type": "code",
      "metadata": {
        "id": "ZcHKgBo6Vb5v",
        "colab_type": "code",
        "colab": {}
      },
      "source": [
        "!pip install git+https://www.github.com/keras-team/keras-contrib.git"
      ],
      "execution_count": 0,
      "outputs": []
    },
    {
      "cell_type": "code",
      "metadata": {
        "id": "JSHVm2IihnSp",
        "colab_type": "code",
        "colab": {}
      },
      "source": [
        "from keras.optimizers import Adam\n",
        "from keras.initializers import RandomNormal\n",
        "from keras.models import Model, Input\n",
        "from keras.layers import Conv2D, LeakyReLU, Activation, Concatenate, BatchNormalization, Conv2DTranspose\n",
        "from keras_contrib.layers.normalization.instancenormalization import InstanceNormalization\n",
        "from keras.preprocessing.image import img_to_array, load_img\n",
        "from keras.utils.vis_utils import plot_model\n",
        "import keras.backend as K\n",
        "K.clear_session()\n",
        "\n",
        "import numpy as np\n",
        "import os\n",
        "from matplotlib import pyplot"
      ],
      "execution_count": 0,
      "outputs": []
    },
    {
      "cell_type": "markdown",
      "metadata": {
        "id": "hF-74KcruSiP",
        "colab_type": "text"
      },
      "source": [
        "Veri İşlemleri Operasyonları"
      ]
    },
    {
      "cell_type": "code",
      "metadata": {
        "id": "MZjCMC24X_HV",
        "colab_type": "code",
        "colab": {}
      },
      "source": [
        "class DataOperations():\n",
        "\n",
        " \n",
        "  @staticmethod #Resimlerin boyutunu 256,256 yapıp array'e dönüştürüp npz uzantılı kaydeden metod\n",
        "  def import_and_save_images(name, path, size=(256,256)):  \n",
        "    data_list = list()\n",
        "    img_list = os.listdir(path)\n",
        "    img_list.sort()\n",
        "\n",
        "    count = 0\n",
        "    for filename in img_list:\n",
        "      pixels = load_img(path + filename, target_size=size)\n",
        "      pixels = img_to_array(pixels)\n",
        "      data_list.append(pixels)\n",
        "      count += 1\n",
        "      if count%1 == 0:\n",
        "        print(count, \". Appended\")\n",
        "    \n",
        "    filename = name + '_256.npz'\n",
        "    np.savez_compressed(path+filename, np.asarray(data_list))\n",
        "    print('Saved dataset: ', filename)\n",
        "    return filename\n",
        "\n",
        "  \n",
        "  @staticmethod #kaydedilmiş resimleri [-1,1] aralığına sokup geri yükleyen metod\n",
        "  def load_samples(filename1,filename2):\n",
        "\n",
        "    file1 = np.load(filename1)\n",
        "    file1 = file1['arr_0']\n",
        "    file1 = (file1 - 127.5) / 127.5\n",
        "\n",
        "    file2 = np.load(filename2)\n",
        "    file2 = file2['arr_0']\n",
        "    file2 = (file2 - 127.5) / 127.5\n",
        "\n",
        "    print('Loaded: ',filename1,\" and \" ,filename2)\n",
        "    return file1,file2"
      ],
      "execution_count": 0,
      "outputs": []
    },
    {
      "cell_type": "markdown",
      "metadata": {
        "id": "rBLg1NCwuPlQ",
        "colab_type": "text"
      },
      "source": [
        "CycleGAN class'ı."
      ]
    },
    {
      "cell_type": "code",
      "metadata": {
        "id": "W_r5Ak4fST8m",
        "colab_type": "code",
        "colab": {}
      },
      "source": [
        "class CycleGAN():\n",
        "\n",
        "  @staticmethod #discriminatör modeli\n",
        "  def define_discriminator(image_shape):\n",
        "    init_disc = RandomNormal(stddev=0.02) #weight init\n",
        "\n",
        "    input_image = Input(shape=image_shape)  #input\n",
        "\n",
        "    d = Conv2D(64, (4,4), strides=(2,2), padding='same', kernel_initializer=init_disc)(input_image)\n",
        "    d = LeakyReLU(alpha=0.2)(d)\n",
        "\n",
        "    d = Conv2D(128, (4,4), strides=(2,2), padding='same', kernel_initializer=init_disc)(d)\n",
        "    d = InstanceNormalization(axis=-1)(d)\n",
        "    d = LeakyReLU(alpha=0.2)(d)\n",
        "\n",
        "    d = Conv2D(256, (4,4), strides=(2,2), padding='same', kernel_initializer=init_disc)(d)\n",
        "    d = InstanceNormalization(axis=-1)(d)\n",
        "    d = LeakyReLU(alpha=0.2)(d)\n",
        "\n",
        "    d = Conv2D(512, (4,4), strides=(2,2), padding='same', kernel_initializer=init_disc)(d)\n",
        "    d = InstanceNormalization(axis=-1)(d)\n",
        "    d = LeakyReLU(alpha=0.2)(d)\n",
        "\n",
        "    d = Conv2D(512, (4,4), padding='same', kernel_initializer=init_disc)(d)\n",
        "    d = InstanceNormalization(axis=-1)(d)\n",
        "    d = LeakyReLU(alpha=0.2)(d)\n",
        "\n",
        "    output_image = Conv2D(1, (4,4), padding='same', kernel_initializer=init_disc)(d)\n",
        "\n",
        "    model = Model(input_image, output_image)\n",
        "    model.compile(loss='mse', optimizer=Adam(lr=0.0002, beta_1=0.5), loss_weights=[0.5])\n",
        "    return model\n",
        "\n",
        "  @staticmethod #resnet block of generator\n",
        "  def resnet_block(n_filters, input_layer):\n",
        "\n",
        "    init = RandomNormal(stddev=0.02)\n",
        "\n",
        "    g = Conv2D(n_filters, (3,3), padding='same', kernel_initializer=init)(input_layer)\n",
        "    g = InstanceNormalization(axis=-1)(g)\n",
        "    g = Activation('relu')(g)\n",
        "  \n",
        "    g = Conv2D(n_filters, (3,3), padding='same', kernel_initializer=init)(g)\n",
        "    g = InstanceNormalization(axis=-1)(g)\n",
        "\n",
        "    g = Concatenate()([g, input_layer])\n",
        "    return g\n",
        "\n",
        "  @staticmethod #generator model\n",
        "  def define_generator(image_shape=(256,256,3), n_resnet=9):\n",
        "\n",
        "    init = RandomNormal(stddev=0.02)\n",
        "\n",
        "    in_image = Input(shape=image_shape)\n",
        "\n",
        "    g = Conv2D(64, (7,7), padding='same', kernel_initializer=init)(in_image)\n",
        "    g = InstanceNormalization(axis=-1)(g)\n",
        "    g = Activation('relu')(g)\n",
        "\n",
        "    g = Conv2D(128, (3,3), strides=(2,2), padding='same', kernel_initializer=init)(g)\n",
        "    g = InstanceNormalization(axis=-1)(g)\n",
        "    g = Activation('relu')(g)\n",
        "\n",
        "    g = Conv2D(256, (3,3), strides=(2,2), padding='same', kernel_initializer=init)(g)\n",
        "    g = InstanceNormalization(axis=-1)(g)\n",
        "    g = Activation('relu')(g)\n",
        "\n",
        "    for _ in range(n_resnet):\n",
        "      g = CycleGAN.resnet_block(256, g)\n",
        "\n",
        "    g = Conv2DTranspose(128, (3,3), strides=(2,2), padding='same', kernel_initializer=init)(g)\n",
        "    g = InstanceNormalization(axis=-1)(g)\n",
        "    g = Activation('relu')(g)\n",
        "\n",
        "    g = Conv2DTranspose(64, (3,3), strides=(2,2), padding='same', kernel_initializer=init)(g)\n",
        "    g = InstanceNormalization(axis=-1)(g)\n",
        "    g = Activation('relu')(g)\n",
        "\n",
        "    g = Conv2D(3, (7,7), padding='same', kernel_initializer=init)(g)\n",
        "    g = InstanceNormalization(axis=-1)(g)\n",
        "    out_image = Activation('tanh')(g)\n",
        "\n",
        "    model = Model(in_image, out_image)\n",
        "    return model\n",
        "\n",
        "  @staticmethod #Komposit model\n",
        "  def define_composite_model(g_model_1, d_model, g_model_2, image_shape):\n",
        "\n",
        "    g_model_1.trainable = True\n",
        "    d_model.trainable = False\n",
        "    g_model_2.trainable = False\n",
        "\n",
        "    # Adverisal Model\n",
        "    input_gen = Input(shape=image_shape)\n",
        "    gen1_out = g_model_1(input_gen)\n",
        "    output_d = d_model(gen1_out)\n",
        "\n",
        "    # Identity Model\n",
        "    input_id = Input(shape=image_shape)\n",
        "    output_id = g_model_1(input_id)\n",
        "\n",
        "    # Forward Model\n",
        "    output_f = g_model_2(gen1_out)\n",
        "\n",
        "    # Backward cycle\n",
        "    gen2_out = g_model_2(input_id)\n",
        "    output_b = g_model_1(gen2_out)\n",
        "\n",
        "    model = Model([input_gen, input_id], [output_d, output_id, output_f, output_b])\n",
        "    model.compile(loss=['mse', 'mae', 'mae', 'mae'], loss_weights=[1, 5, 10, 10], optimizer=Adam(lr=0.0002, beta_1=0.5))\n",
        "    return model\n",
        "\n",
        "  @staticmethod #Veri setinden index'ten gelen fotoğrafı çekmek ve discriminator'e öğretmek\n",
        "  def generate_real_samples(dataset, index=0 ,n_samples=1, patch_shape=16):\n",
        "\n",
        "    X = dataset[[index]]\n",
        "    y = np.ones((n_samples, patch_shape, patch_shape, 1))\n",
        "    return X, y\n",
        "  \n",
        "  @staticmethod #generator modelden fake foto üretmek ve discriminator'e öğretmek\n",
        "  def generate_fake_samples(g_model, dataset, patch_shape=16):\n",
        "\n",
        "    X = g_model.predict(dataset)\n",
        "    y = np.zeros((len(X), patch_shape, patch_shape, 1))\n",
        "    return X, y\n",
        "\n",
        "  @staticmethod #Modelin karmaşıklığını arttırmak için pool'a fotoğraf ekleyip rastgele seçim yapmak.\n",
        "  def update_image_pool(pool, images, max_size=50):\n",
        "    selected = list()\n",
        "    for image in images:\n",
        "      \n",
        "      if len(pool) < max_size:\n",
        "        pool.append(image)\n",
        "        selected.append(image)\n",
        "      \n",
        "      elif random() < 0.5:\n",
        "        selected.append(image)\n",
        "      \n",
        "      else:\n",
        "        ix = randint(0, len(pool))\n",
        "        selected.append(pool[ix])\n",
        "        pool[ix] = image\n",
        "\n",
        "    return np.asarray(selected)\n",
        "\n",
        "  @staticmethod #Modeli ve ağırlıklarını savelemek\n",
        "  def save_models(step, g_model_AtoB, g_model_BtoA , d_model_A, d_model_B):\n",
        "    # save the first generator model\n",
        "    filename1 = '/content/drive/My Drive/image1k/g_model_AtoB_%06d.h5' % (step+1)\n",
        "    g_model_AtoB.save(filename1)\n",
        "    # save the second generator model\n",
        "    filename2 = '/content/drive/My Drive/image1k/g_model_BtoA_%06d.h5' % (step+1)\n",
        "    g_model_BtoA.save(filename2)\n",
        "\n",
        "    filename3 = '/content/drive/My Drive/image1k/d_model_A_%06d.h5' % (step+1)\n",
        "    d_model_A.save(filename3)\n",
        "\n",
        "    filename4 = '/content/drive/My Drive/image1k/d_model_B_%06d.h5' % (step+1)\n",
        "    d_model_B.save(filename4)\n",
        "\n",
        "    print('>Saved: %s and %s and %s and %s' % (filename1, filename2, filename3, filename4))\n",
        "\n",
        "  @staticmethod #Fotoğraf özeti için aslından farklı y üretmeyen fonksiyon\n",
        "  def generate_real_samples_for_summary(dataset, n_samples, patch_shape):\n",
        "\n",
        "    ix = np.random.randint(0, dataset.shape[0], n_samples)\n",
        "    X = dataset[ix]\n",
        "    y = np.ones((n_samples, patch_shape, patch_shape, 1))\n",
        "    return X, y\n",
        "\n",
        "  @staticmethod #performans özet\n",
        "  def summarize_performance(step, g_model, trainX, name, n_samples=5):\n",
        "\n",
        "    X_in, _ = CycleGAN.generate_real_samples_for_summary(trainX, n_samples, 0)\n",
        "\n",
        "    X_out, _ = CycleGAN.generate_fake_samples(g_model, X_in, 0)\n",
        "\n",
        "    X_in = (X_in + 1) / 2.0\n",
        "    X_out = (X_out + 1) / 2.0\n",
        "\n",
        "    for i in range(n_samples):\n",
        "      pyplot.subplot(2, n_samples, 1 + i)\n",
        "      pyplot.axis('off')\n",
        "      pyplot.imshow(X_in[i])\n",
        "\n",
        "    for i in range(n_samples):\n",
        "      pyplot.subplot(2, n_samples, 1 + n_samples + i)\n",
        "      pyplot.axis('off')\n",
        "      pyplot.imshow(X_out[i])\n",
        "\n",
        "    filename1 = '/content/drive/My Drive/image1k/%s_generated_plot_%06d.png' % (name, (step+1))\n",
        "    pyplot.savefig(filename1)\n",
        "    pyplot.close()\n",
        "\n",
        "  @staticmethod #train kısmı\n",
        "  def train(d_model_A, d_model_B, g_model_AtoB, g_model_BtoA, c_model_AtoB, c_model_BtoA, realdata, nrrdata):\n",
        "    \n",
        "    n_epochs, n_batch, = 100, 1\n",
        "    n_patch = d_model_A.output_shape[1]\n",
        "    \n",
        "    trainA, trainB = realdata, nrrdata\n",
        "    poolA, poolB = list(), list()\n",
        "\n",
        "    n_steps = int(len(trainA)) * n_epochs\n",
        "\n",
        "\n",
        "    for i in range(n_steps):\n",
        "\n",
        "      #index = np.random.randint(0,1000)  #pair üretimi için\n",
        "      #X_realA, y_realA = CycleGAN.generate_real_samples(trainA,index, n_batch, n_patch)\n",
        "      #X_realB, y_realB = CycleGAN.generate_real_samples(trainB,index, n_batch, n_patch)\n",
        "\n",
        "      X_realA, y_realA = CycleGAN.generate_real_samples_for_summary(trainA, n_batch, n_patch)\n",
        "      X_realB, y_realB = CycleGAN.generate_real_samples_for_summary(trainB, n_batch, n_patch)\n",
        "\n",
        "\n",
        "      X_fakeA, y_fakeA = CycleGAN.generate_fake_samples(g_model_BtoA, X_realB, n_patch)\n",
        "      X_fakeB, y_fakeB = CycleGAN.generate_fake_samples(g_model_AtoB, X_realA, n_patch)\n",
        "\n",
        "      #X_fakeA = CycleGAN.update_image_pool(poolA, X_fakeA)\n",
        "      #X_fakeB = CycleGAN.update_image_pool(poolB, X_fakeB)\n",
        "\n",
        "\n",
        "      g_loss2, _, _, _, _  = c_model_BtoA.train_on_batch([X_realB, X_realA], [y_realA, X_realA, X_realB, X_realA])\n",
        "\n",
        "\n",
        "      dA_loss1 = d_model_A.train_on_batch(X_realA, y_realA)\n",
        "      dA_loss2 = d_model_A.train_on_batch(X_fakeA, y_fakeA)\n",
        "\n",
        "\n",
        "      g_loss1, _, _, _, _ = c_model_AtoB.train_on_batch([X_realA, X_realB], [y_realB, X_realB, X_realA, X_realB])\n",
        "\n",
        "\n",
        "      dB_loss1 = d_model_B.train_on_batch(X_realB, y_realB)\n",
        "      dB_loss2 = d_model_B.train_on_batch(X_fakeB, y_fakeB)\n",
        "  \n",
        "\n",
        "      print('>%d, dA[%.3f,%.3f] dB[%.3f,%.3f] g[%.3f,%.3f]' % (i+1, dA_loss1,dA_loss2, dB_loss1,dB_loss2, g_loss1,g_loss2))\n",
        "\n",
        "\n",
        "\n",
        "      if (i+1) % int(len(trainA)) == 0:\n",
        "        CycleGAN.summarize_performance(i, g_model_AtoB, trainA, 'AtoB')\n",
        "        CycleGAN.summarize_performance(i, g_model_BtoA, trainB, 'BtoA')\n",
        "\n",
        "        CycleGAN.save_models(i, g_model_AtoB, g_model_BtoA , d_model_A, d_model_B)\n",
        "\n",
        "        "
      ],
      "execution_count": 0,
      "outputs": []
    },
    {
      "cell_type": "markdown",
      "metadata": {
        "id": "MxydkBbvLZ5D",
        "colab_type": "text"
      },
      "source": [
        "#ANA OPERASYONLAR"
      ]
    },
    {
      "cell_type": "markdown",
      "metadata": {
        "id": "rnXEPdvIvWM4",
        "colab_type": "text"
      },
      "source": [
        "200x200 veriyi 256x256 ya dönüştürüp .npz olarak kaydettiğimiz kısım"
      ]
    },
    {
      "cell_type": "code",
      "metadata": {
        "id": "xAMCP8fiOd7O",
        "colab_type": "code",
        "colab": {}
      },
      "source": [
        "real_path = \"/content/drive/My Drive/image1k/Real1k/\"\n",
        "nrr_path = \"/content/drive/My Drive/image1k/NotReallyReal1k/\"\n",
        "\n",
        "realName = DataOperations.import_and_save_images(\"real\",real_path,size=(256,256))\n",
        "nrrName = DataOperations.import_and_save_images(\"nrr\",nrr_path,size=(256,256))"
      ],
      "execution_count": 0,
      "outputs": []
    },
    {
      "cell_type": "markdown",
      "metadata": {
        "id": "ja0PoVjgvqoD",
        "colab_type": "text"
      },
      "source": [
        ".npz dosyasından import etmek"
      ]
    },
    {
      "cell_type": "code",
      "metadata": {
        "id": "8Ju2M7xXUQkE",
        "colab_type": "code",
        "outputId": "2ac2d068-babc-4155-ed23-f57b2f0a4a48",
        "colab": {
          "base_uri": "https://localhost:8080/",
          "height": 53
        }
      },
      "source": [
        "path_1k = \"/content/drive/My Drive/image1k/\"\n",
        "realdata , nrrdata = DataOperations.load_samples(path_1k+\"real_256.npz\", path_1k+\"nrr_256.npz\")"
      ],
      "execution_count": 0,
      "outputs": [
        {
          "output_type": "stream",
          "text": [
            "Loaded:  /content/drive/My Drive/image1k/real_256.npz  and  /content/drive/My Drive/image1k/nrr_256.npz\n"
          ],
          "name": "stdout"
        }
      ]
    },
    {
      "cell_type": "markdown",
      "metadata": {
        "id": "m42ZzNqpvxl3",
        "colab_type": "text"
      },
      "source": [
        "İlk çalıştırma için modellerin oluşturulması"
      ]
    },
    {
      "cell_type": "code",
      "metadata": {
        "id": "6zr1SC4nwuQT",
        "colab_type": "code",
        "colab": {}
      },
      "source": [
        "image_shape = realdata.shape[1:]\n",
        "\n",
        "g_model_AtoB = CycleGAN.define_generator(image_shape)\n",
        "g_model_BtoA = CycleGAN.define_generator(image_shape)\n",
        "\n",
        "d_model_A = CycleGAN.define_discriminator(image_shape)\n",
        "d_model_B = CycleGAN.define_discriminator(image_shape)\n",
        "\n",
        "c_model_AtoB = CycleGAN.define_composite_model(g_model_AtoB, d_model_B, g_model_BtoA, image_shape)\n",
        "c_model_BtoA = CycleGAN.define_composite_model(g_model_BtoA, d_model_A, g_model_AtoB, image_shape)"
      ],
      "execution_count": 0,
      "outputs": []
    },
    {
      "cell_type": "markdown",
      "metadata": {
        "id": "YkqbHZ8cv0PH",
        "colab_type": "text"
      },
      "source": [
        "Daha önce çalıştırılmışsa modeli load edip çalıştırmak. Ya üstteki ya alttaki kod çalışır."
      ]
    },
    {
      "cell_type": "code",
      "metadata": {
        "id": "bpK3HcXvBn-M",
        "colab_type": "code",
        "colab": {}
      },
      "source": [
        "import keras.backend as K\n",
        "K.clear_session()\n",
        "\n",
        "\n",
        "from keras.models import load_model\n",
        "cust = {'InstanceNormalization': InstanceNormalization}\n",
        "\n",
        "g_model_AtoB = load_model('/content/drive/My Drive/image1k/g_model_AtoB_002500.h5', cust, compile=False)\n",
        "g_model_BtoA = load_model('/content/drive/My Drive/image1k/g_model_BtoA_002500.h5', cust, compile=False)\n",
        "\n",
        "d_model_A = load_model('/content/drive/My Drive/image1k/d_model_A_002500.h5', cust, compile=True)\n",
        "\n",
        "d_model_B = load_model('/content/drive/My Drive/image1k/d_model_B_002500.h5', cust, compile=True)\n",
        "\n",
        "\n",
        "image_shape = realdata.shape[1:]\n",
        "c_model_AtoB = CycleGAN.define_composite_model(g_model_AtoB, d_model_B, g_model_BtoA, image_shape)\n",
        "c_model_BtoA = CycleGAN.define_composite_model(g_model_BtoA, d_model_A, g_model_AtoB, image_shape)"
      ],
      "execution_count": 0,
      "outputs": []
    },
    {
      "cell_type": "markdown",
      "metadata": {
        "id": "JZsnDTe9wBeg",
        "colab_type": "text"
      },
      "source": [
        "Train başlasın"
      ]
    },
    {
      "cell_type": "code",
      "metadata": {
        "id": "vJds1auFeA3G",
        "colab_type": "code",
        "colab": {}
      },
      "source": [
        "if __name__ == \"__main__\":\n",
        "  CycleGAN.train(d_model_A, d_model_B, g_model_AtoB, g_model_BtoA, c_model_AtoB, c_model_BtoA, realdata, nrrdata)"
      ],
      "execution_count": 0,
      "outputs": []
    },
    {
      "cell_type": "code",
      "metadata": {
        "id": "UR5QeiNp8VXF",
        "colab_type": "code",
        "colab": {}
      },
      "source": [
        "#75.5k train 75.5 epoch\n",
        "sample = \"/content/77.jpg\"\n",
        "sample = load_img(sample, target_size=(256,256))\n",
        "sample_array = img_to_array(sample)\n",
        "listx = []\n",
        "listx.append(sample_array)\n",
        "sample_array = np.asarray(listx)\n",
        "sample_array = (sample_array-127.5)/127.5\n",
        "sonuc = g_model_BtoA.predict(sample_array)\n",
        "sonuc = (sonuc + 1) /2\n",
        "pyplot.imshow(sonuc[0])"
      ],
      "execution_count": 0,
      "outputs": []
    },
    {
      "cell_type": "markdown",
      "metadata": {
        "id": "yDn3Zt_7KqIB",
        "colab_type": "text"
      },
      "source": [
        "#Sonuç\n"
      ]
    },
    {
      "cell_type": "markdown",
      "metadata": {
        "id": "sDOcFjgqNdlA",
        "colab_type": "text"
      },
      "source": [
        "![alt text](https://github.com/nailcankara/DL/blob/master/07_Generative_Adversarial_Networks(CycleGAN)/22.jpg?raw=true)"
      ]
    },
    {
      "cell_type": "markdown",
      "metadata": {
        "id": "ZiIiixUEMwoR",
        "colab_type": "text"
      },
      "source": [
        "![alt text](https://raw.githubusercontent.com/nailcankara/DL/master/07_Generative_Adversarial_Networks(CycleGAN)/22new1.jpg)"
      ]
    },
    {
      "cell_type": "markdown",
      "metadata": {
        "id": "dNOo9hdkLoqv",
        "colab_type": "text"
      },
      "source": [
        "*On translation tasks that involve color and texture changes, like many of those reported above, the method often succeeds. We have also explored tasks that require geometric changes, with little success.*"
      ]
    },
    {
      "cell_type": "markdown",
      "metadata": {
        "id": "3c2AiDb1LrLn",
        "colab_type": "text"
      },
      "source": [
        "Cycle Gan renk ve doku üretimi/değişimi konusunda başarılır. Geometrik şekillerde ise oldukça başarısız"
      ]
    }
  ]
}